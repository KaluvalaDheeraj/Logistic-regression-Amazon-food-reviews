{
 "cells": [
  {
   "cell_type": "markdown",
   "metadata": {
    "colab_type": "text",
    "collapsed": true,
    "id": "1odOhOdDgj5M"
   },
   "source": [
    "# Logistic Regression Assignment For Amazon Reviews"
   ]
  },
  {
   "cell_type": "code",
   "execution_count": 0,
   "metadata": {
    "colab": {},
    "colab_type": "code",
    "id": "pGEL4icTjnd_"
   },
   "outputs": [],
   "source": [
    "%matplotlib inline\n",
    "import warnings\n",
    "warnings.filterwarnings(\"ignore\")\n",
    "\n",
    "\n",
    "import sqlite3\n",
    "import pandas as pd\n",
    "import numpy as np\n",
    "import nltk\n",
    "import string\n",
    "import matplotlib.pyplot as plt\n",
    "import seaborn as sns\n",
    "from sklearn.feature_extraction.text import TfidfTransformer\n",
    "from sklearn.feature_extraction.text import TfidfVectorizer\n",
    "\n",
    "from sklearn.feature_extraction.text import CountVectorizer\n",
    "from sklearn.metrics import confusion_matrix\n",
    "from sklearn import metrics\n",
    "from sklearn.metrics import roc_curve, auc\n",
    "from nltk.stem.porter import PorterStemmer\n",
    "\n",
    "import re\n",
    "# Tutorial about Python regular expressions: https://pymotw.com/2/re/\n",
    "import string\n",
    "from nltk.corpus import stopwords\n",
    "from nltk.stem import PorterStemmer\n",
    "from nltk.stem.wordnet import WordNetLemmatizer\n",
    "\n",
    "from gensim.models import Word2Vec\n",
    "from gensim.models import KeyedVectors\n",
    "import pickle\n",
    "\n",
    "from tqdm import tqdm\n",
    "import os"
   ]
  },
  {
   "cell_type": "code",
   "execution_count": 5,
   "metadata": {
    "colab": {
     "base_uri": "https://localhost:8080/",
     "height": 244
    },
    "colab_type": "code",
    "id": "NqDlw5pujrFN",
    "outputId": "e69e3154-08cd-4b09-872f-a6ca1a0192cc"
   },
   "outputs": [
    {
     "name": "stdout",
     "output_type": "stream",
     "text": [
      "Number of data points in our data (200000, 10)\n"
     ]
    },
    {
     "data": {
      "text/html": [
       "<div>\n",
       "<style scoped>\n",
       "    .dataframe tbody tr th:only-of-type {\n",
       "        vertical-align: middle;\n",
       "    }\n",
       "\n",
       "    .dataframe tbody tr th {\n",
       "        vertical-align: top;\n",
       "    }\n",
       "\n",
       "    .dataframe thead th {\n",
       "        text-align: right;\n",
       "    }\n",
       "</style>\n",
       "<table border=\"1\" class=\"dataframe\">\n",
       "  <thead>\n",
       "    <tr style=\"text-align: right;\">\n",
       "      <th></th>\n",
       "      <th>Id</th>\n",
       "      <th>ProductId</th>\n",
       "      <th>UserId</th>\n",
       "      <th>ProfileName</th>\n",
       "      <th>HelpfulnessNumerator</th>\n",
       "      <th>HelpfulnessDenominator</th>\n",
       "      <th>Score</th>\n",
       "      <th>Time</th>\n",
       "      <th>Summary</th>\n",
       "      <th>Text</th>\n",
       "    </tr>\n",
       "  </thead>\n",
       "  <tbody>\n",
       "    <tr>\n",
       "      <th>0</th>\n",
       "      <td>1</td>\n",
       "      <td>B001E4KFG0</td>\n",
       "      <td>A3SGXH7AUHU8GW</td>\n",
       "      <td>delmartian</td>\n",
       "      <td>1</td>\n",
       "      <td>1</td>\n",
       "      <td>1</td>\n",
       "      <td>1303862400</td>\n",
       "      <td>Good Quality Dog Food</td>\n",
       "      <td>I have bought several of the Vitality canned d...</td>\n",
       "    </tr>\n",
       "    <tr>\n",
       "      <th>1</th>\n",
       "      <td>2</td>\n",
       "      <td>B00813GRG4</td>\n",
       "      <td>A1D87F6ZCVE5NK</td>\n",
       "      <td>dll pa</td>\n",
       "      <td>0</td>\n",
       "      <td>0</td>\n",
       "      <td>0</td>\n",
       "      <td>1346976000</td>\n",
       "      <td>Not as Advertised</td>\n",
       "      <td>Product arrived labeled as Jumbo Salted Peanut...</td>\n",
       "    </tr>\n",
       "    <tr>\n",
       "      <th>2</th>\n",
       "      <td>3</td>\n",
       "      <td>B000LQOCH0</td>\n",
       "      <td>ABXLMWJIXXAIN</td>\n",
       "      <td>Natalia Corres \"Natalia Corres\"</td>\n",
       "      <td>1</td>\n",
       "      <td>1</td>\n",
       "      <td>1</td>\n",
       "      <td>1219017600</td>\n",
       "      <td>\"Delight\" says it all</td>\n",
       "      <td>This is a confection that has been around a fe...</td>\n",
       "    </tr>\n",
       "  </tbody>\n",
       "</table>\n",
       "</div>"
      ],
      "text/plain": [
       "   Id   ProductId          UserId                      ProfileName  \\\n",
       "0   1  B001E4KFG0  A3SGXH7AUHU8GW                       delmartian   \n",
       "1   2  B00813GRG4  A1D87F6ZCVE5NK                           dll pa   \n",
       "2   3  B000LQOCH0   ABXLMWJIXXAIN  Natalia Corres \"Natalia Corres\"   \n",
       "\n",
       "   HelpfulnessNumerator  HelpfulnessDenominator  Score        Time  \\\n",
       "0                     1                       1      1  1303862400   \n",
       "1                     0                       0      0  1346976000   \n",
       "2                     1                       1      1  1219017600   \n",
       "\n",
       "                 Summary                                               Text  \n",
       "0  Good Quality Dog Food  I have bought several of the Vitality canned d...  \n",
       "1      Not as Advertised  Product arrived labeled as Jumbo Salted Peanut...  \n",
       "2  \"Delight\" says it all  This is a confection that has been around a fe...  "
      ]
     },
     "execution_count": 5,
     "metadata": {
      "tags": []
     },
     "output_type": "execute_result"
    }
   ],
   "source": [
    "\n",
    "# using SQLite Table to read data.\n",
    "con = sqlite3.connect('/content/drive/My Drive/database.sqlite') \n",
    "\n",
    "# filtering only positive and negative reviews i.e. \n",
    "# not taking into consideration those reviews with Score=3\n",
    "# SELECT * FROM Reviews WHERE Score != 3 LIMIT 500000, will give top 500000 data points\n",
    "# you can change the number to any other number based on your computing power\n",
    "\n",
    "# filtered_data = pd.read_sql_query(\"\"\" SELECT * FROM Reviews WHERE Score != 3 LIMIT 500000\"\"\", con) \n",
    "# for tsne assignment you can take 5k data points\n",
    "\n",
    "filtered_data = pd.read_sql_query(\"\"\" SELECT * FROM Reviews WHERE Score != 3 LIMIT 200000 \"\"\", con) \n",
    "\n",
    "# Give reviews with Score>3 a positive rating(1), and reviews with a score<3 a negative rating(0).\n",
    "def partition(x):\n",
    "    if x < 3:\n",
    "        return 0\n",
    "    return 1\n",
    "\n",
    "#changing reviews with score less than 3 to be positive and vice-versa\n",
    "actualScore = filtered_data['Score']\n",
    "positiveNegative = actualScore.map(partition) \n",
    "filtered_data['Score'] = positiveNegative\n",
    "print(\"Number of data points in our data\", filtered_data.shape)\n",
    "filtered_data.head(3)"
   ]
  },
  {
   "cell_type": "code",
   "execution_count": 6,
   "metadata": {
    "colab": {
     "base_uri": "https://localhost:8080/",
     "height": 128
    },
    "colab_type": "code",
    "id": "CxibVeJRj1mw",
    "outputId": "9c1ecf26-acdd-406a-8391-9a20cc3d24cc"
   },
   "outputs": [
    {
     "name": "stdout",
     "output_type": "stream",
     "text": [
      "(80668, 7)\n"
     ]
    },
    {
     "data": {
      "text/html": [
       "<div>\n",
       "<style scoped>\n",
       "    .dataframe tbody tr th:only-of-type {\n",
       "        vertical-align: middle;\n",
       "    }\n",
       "\n",
       "    .dataframe tbody tr th {\n",
       "        vertical-align: top;\n",
       "    }\n",
       "\n",
       "    .dataframe thead th {\n",
       "        text-align: right;\n",
       "    }\n",
       "</style>\n",
       "<table border=\"1\" class=\"dataframe\">\n",
       "  <thead>\n",
       "    <tr style=\"text-align: right;\">\n",
       "      <th></th>\n",
       "      <th>UserId</th>\n",
       "      <th>ProductId</th>\n",
       "      <th>ProfileName</th>\n",
       "      <th>Time</th>\n",
       "      <th>Score</th>\n",
       "      <th>Text</th>\n",
       "      <th>COUNT(*)</th>\n",
       "    </tr>\n",
       "  </thead>\n",
       "  <tbody>\n",
       "    <tr>\n",
       "      <th>0</th>\n",
       "      <td>#oc-R115TNMSPFT9I7</td>\n",
       "      <td>B007Y59HVM</td>\n",
       "      <td>Breyton</td>\n",
       "      <td>1331510400</td>\n",
       "      <td>2</td>\n",
       "      <td>Overall its just OK when considering the price...</td>\n",
       "      <td>2</td>\n",
       "    </tr>\n",
       "    <tr>\n",
       "      <th>1</th>\n",
       "      <td>#oc-R11D9D7SHXIJB9</td>\n",
       "      <td>B005HG9ET0</td>\n",
       "      <td>Louis E. Emory \"hoppy\"</td>\n",
       "      <td>1342396800</td>\n",
       "      <td>5</td>\n",
       "      <td>My wife has recurring extreme muscle spasms, u...</td>\n",
       "      <td>3</td>\n",
       "    </tr>\n",
       "  </tbody>\n",
       "</table>\n",
       "</div>"
      ],
      "text/plain": [
       "               UserId   ProductId             ProfileName        Time  Score  \\\n",
       "0  #oc-R115TNMSPFT9I7  B007Y59HVM                 Breyton  1331510400      2   \n",
       "1  #oc-R11D9D7SHXIJB9  B005HG9ET0  Louis E. Emory \"hoppy\"  1342396800      5   \n",
       "\n",
       "                                                Text  COUNT(*)  \n",
       "0  Overall its just OK when considering the price...         2  \n",
       "1  My wife has recurring extreme muscle spasms, u...         3  "
      ]
     },
     "execution_count": 6,
     "metadata": {
      "tags": []
     },
     "output_type": "execute_result"
    }
   ],
   "source": [
    "display = pd.read_sql_query(\"\"\"\n",
    "SELECT UserId, ProductId, ProfileName, Time, Score, Text, COUNT(*)\n",
    "FROM Reviews\n",
    "GROUP BY UserId\n",
    "HAVING COUNT(*)>1\n",
    "\"\"\", con)\n",
    "print(display.shape)\n",
    "display.head(2)"
   ]
  },
  {
   "cell_type": "code",
   "execution_count": 7,
   "metadata": {
    "colab": {
     "base_uri": "https://localhost:8080/",
     "height": 80
    },
    "colab_type": "code",
    "id": "jX3zW5wCj2xy",
    "outputId": "5e4ab8be-4d0d-4556-f994-33321649f99b"
   },
   "outputs": [
    {
     "data": {
      "text/html": [
       "<div>\n",
       "<style scoped>\n",
       "    .dataframe tbody tr th:only-of-type {\n",
       "        vertical-align: middle;\n",
       "    }\n",
       "\n",
       "    .dataframe tbody tr th {\n",
       "        vertical-align: top;\n",
       "    }\n",
       "\n",
       "    .dataframe thead th {\n",
       "        text-align: right;\n",
       "    }\n",
       "</style>\n",
       "<table border=\"1\" class=\"dataframe\">\n",
       "  <thead>\n",
       "    <tr style=\"text-align: right;\">\n",
       "      <th></th>\n",
       "      <th>UserId</th>\n",
       "      <th>ProductId</th>\n",
       "      <th>ProfileName</th>\n",
       "      <th>Time</th>\n",
       "      <th>Score</th>\n",
       "      <th>Text</th>\n",
       "      <th>COUNT(*)</th>\n",
       "    </tr>\n",
       "  </thead>\n",
       "  <tbody>\n",
       "    <tr>\n",
       "      <th>80638</th>\n",
       "      <td>AZY10LLTJ71NX</td>\n",
       "      <td>B006P7E5ZI</td>\n",
       "      <td>undertheshrine \"undertheshrine\"</td>\n",
       "      <td>1334707200</td>\n",
       "      <td>5</td>\n",
       "      <td>I was recommended to try green tea extract to ...</td>\n",
       "      <td>5</td>\n",
       "    </tr>\n",
       "  </tbody>\n",
       "</table>\n",
       "</div>"
      ],
      "text/plain": [
       "              UserId   ProductId                      ProfileName        Time  \\\n",
       "80638  AZY10LLTJ71NX  B006P7E5ZI  undertheshrine \"undertheshrine\"  1334707200   \n",
       "\n",
       "       Score                                               Text  COUNT(*)  \n",
       "80638      5  I was recommended to try green tea extract to ...         5  "
      ]
     },
     "execution_count": 7,
     "metadata": {
      "tags": []
     },
     "output_type": "execute_result"
    }
   ],
   "source": [
    "display[display['UserId']=='AZY10LLTJ71NX']"
   ]
  },
  {
   "cell_type": "code",
   "execution_count": 8,
   "metadata": {
    "colab": {
     "base_uri": "https://localhost:8080/",
     "height": 34
    },
    "colab_type": "code",
    "id": "sVDSJhbtkISD",
    "outputId": "6a0b43b4-2688-4d88-b6f4-a8257063a399"
   },
   "outputs": [
    {
     "data": {
      "text/plain": [
       "393063"
      ]
     },
     "execution_count": 8,
     "metadata": {
      "tags": []
     },
     "output_type": "execute_result"
    }
   ],
   "source": [
    "display['COUNT(*)'].sum() # Total sum"
   ]
  },
  {
   "cell_type": "code",
   "execution_count": 9,
   "metadata": {
    "colab": {
     "base_uri": "https://localhost:8080/",
     "height": 459
    },
    "colab_type": "code",
    "id": "BUCmWXPrkWrc",
    "outputId": "4fe16c9e-5666-4d2d-efdd-872949bc7994"
   },
   "outputs": [
    {
     "data": {
      "text/html": [
       "<div>\n",
       "<style scoped>\n",
       "    .dataframe tbody tr th:only-of-type {\n",
       "        vertical-align: middle;\n",
       "    }\n",
       "\n",
       "    .dataframe tbody tr th {\n",
       "        vertical-align: top;\n",
       "    }\n",
       "\n",
       "    .dataframe thead th {\n",
       "        text-align: right;\n",
       "    }\n",
       "</style>\n",
       "<table border=\"1\" class=\"dataframe\">\n",
       "  <thead>\n",
       "    <tr style=\"text-align: right;\">\n",
       "      <th></th>\n",
       "      <th>Id</th>\n",
       "      <th>ProductId</th>\n",
       "      <th>UserId</th>\n",
       "      <th>ProfileName</th>\n",
       "      <th>HelpfulnessNumerator</th>\n",
       "      <th>HelpfulnessDenominator</th>\n",
       "      <th>Score</th>\n",
       "      <th>Time</th>\n",
       "      <th>Summary</th>\n",
       "      <th>Text</th>\n",
       "    </tr>\n",
       "  </thead>\n",
       "  <tbody>\n",
       "    <tr>\n",
       "      <th>0</th>\n",
       "      <td>78445</td>\n",
       "      <td>B000HDL1RQ</td>\n",
       "      <td>AR5J8UI46CURR</td>\n",
       "      <td>Geetha Krishnan</td>\n",
       "      <td>2</td>\n",
       "      <td>2</td>\n",
       "      <td>5</td>\n",
       "      <td>1199577600</td>\n",
       "      <td>LOACKER QUADRATINI VANILLA WAFERS</td>\n",
       "      <td>DELICIOUS WAFERS. I FIND THAT EUROPEAN WAFERS ...</td>\n",
       "    </tr>\n",
       "    <tr>\n",
       "      <th>1</th>\n",
       "      <td>138317</td>\n",
       "      <td>B000HDOPYC</td>\n",
       "      <td>AR5J8UI46CURR</td>\n",
       "      <td>Geetha Krishnan</td>\n",
       "      <td>2</td>\n",
       "      <td>2</td>\n",
       "      <td>5</td>\n",
       "      <td>1199577600</td>\n",
       "      <td>LOACKER QUADRATINI VANILLA WAFERS</td>\n",
       "      <td>DELICIOUS WAFERS. I FIND THAT EUROPEAN WAFERS ...</td>\n",
       "    </tr>\n",
       "    <tr>\n",
       "      <th>2</th>\n",
       "      <td>138277</td>\n",
       "      <td>B000HDOPYM</td>\n",
       "      <td>AR5J8UI46CURR</td>\n",
       "      <td>Geetha Krishnan</td>\n",
       "      <td>2</td>\n",
       "      <td>2</td>\n",
       "      <td>5</td>\n",
       "      <td>1199577600</td>\n",
       "      <td>LOACKER QUADRATINI VANILLA WAFERS</td>\n",
       "      <td>DELICIOUS WAFERS. I FIND THAT EUROPEAN WAFERS ...</td>\n",
       "    </tr>\n",
       "    <tr>\n",
       "      <th>3</th>\n",
       "      <td>73791</td>\n",
       "      <td>B000HDOPZG</td>\n",
       "      <td>AR5J8UI46CURR</td>\n",
       "      <td>Geetha Krishnan</td>\n",
       "      <td>2</td>\n",
       "      <td>2</td>\n",
       "      <td>5</td>\n",
       "      <td>1199577600</td>\n",
       "      <td>LOACKER QUADRATINI VANILLA WAFERS</td>\n",
       "      <td>DELICIOUS WAFERS. I FIND THAT EUROPEAN WAFERS ...</td>\n",
       "    </tr>\n",
       "    <tr>\n",
       "      <th>4</th>\n",
       "      <td>155049</td>\n",
       "      <td>B000PAQ75C</td>\n",
       "      <td>AR5J8UI46CURR</td>\n",
       "      <td>Geetha Krishnan</td>\n",
       "      <td>2</td>\n",
       "      <td>2</td>\n",
       "      <td>5</td>\n",
       "      <td>1199577600</td>\n",
       "      <td>LOACKER QUADRATINI VANILLA WAFERS</td>\n",
       "      <td>DELICIOUS WAFERS. I FIND THAT EUROPEAN WAFERS ...</td>\n",
       "    </tr>\n",
       "  </tbody>\n",
       "</table>\n",
       "</div>"
      ],
      "text/plain": [
       "       Id   ProductId         UserId      ProfileName  HelpfulnessNumerator  \\\n",
       "0   78445  B000HDL1RQ  AR5J8UI46CURR  Geetha Krishnan                     2   \n",
       "1  138317  B000HDOPYC  AR5J8UI46CURR  Geetha Krishnan                     2   \n",
       "2  138277  B000HDOPYM  AR5J8UI46CURR  Geetha Krishnan                     2   \n",
       "3   73791  B000HDOPZG  AR5J8UI46CURR  Geetha Krishnan                     2   \n",
       "4  155049  B000PAQ75C  AR5J8UI46CURR  Geetha Krishnan                     2   \n",
       "\n",
       "   HelpfulnessDenominator  Score        Time  \\\n",
       "0                       2      5  1199577600   \n",
       "1                       2      5  1199577600   \n",
       "2                       2      5  1199577600   \n",
       "3                       2      5  1199577600   \n",
       "4                       2      5  1199577600   \n",
       "\n",
       "                             Summary  \\\n",
       "0  LOACKER QUADRATINI VANILLA WAFERS   \n",
       "1  LOACKER QUADRATINI VANILLA WAFERS   \n",
       "2  LOACKER QUADRATINI VANILLA WAFERS   \n",
       "3  LOACKER QUADRATINI VANILLA WAFERS   \n",
       "4  LOACKER QUADRATINI VANILLA WAFERS   \n",
       "\n",
       "                                                Text  \n",
       "0  DELICIOUS WAFERS. I FIND THAT EUROPEAN WAFERS ...  \n",
       "1  DELICIOUS WAFERS. I FIND THAT EUROPEAN WAFERS ...  \n",
       "2  DELICIOUS WAFERS. I FIND THAT EUROPEAN WAFERS ...  \n",
       "3  DELICIOUS WAFERS. I FIND THAT EUROPEAN WAFERS ...  \n",
       "4  DELICIOUS WAFERS. I FIND THAT EUROPEAN WAFERS ...  "
      ]
     },
     "execution_count": 9,
     "metadata": {
      "tags": []
     },
     "output_type": "execute_result"
    }
   ],
   "source": [
    "display= pd.read_sql_query(\"\"\"\n",
    "SELECT *\n",
    "FROM Reviews\n",
    "WHERE Score != 3 AND UserId=\"AR5J8UI46CURR\"\n",
    "ORDER BY ProductID\n",
    "\"\"\", con)\n",
    "display.head() # Data cleaning :duplication"
   ]
  },
  {
   "cell_type": "code",
   "execution_count": 0,
   "metadata": {
    "colab": {},
    "colab_type": "code",
    "id": "4Jx5mcNckevy"
   },
   "outputs": [],
   "source": [
    "#Sorting data according to ProductId in ascending order\n",
    "sorted_data=filtered_data.sort_values('ProductId', axis=0, ascending=True, inplace=False, kind='quicksort', na_position='last')"
   ]
  },
  {
   "cell_type": "code",
   "execution_count": 11,
   "metadata": {
    "colab": {
     "base_uri": "https://localhost:8080/",
     "height": 34
    },
    "colab_type": "code",
    "id": "no-MhU5Rkj9L",
    "outputId": "509a8be6-a0df-433c-9e67-aa2bae982140"
   },
   "outputs": [
    {
     "data": {
      "text/plain": [
       "(160178, 10)"
      ]
     },
     "execution_count": 11,
     "metadata": {
      "tags": []
     },
     "output_type": "execute_result"
    }
   ],
   "source": [
    "# Droping Deduplication of entries\n",
    "final=sorted_data.drop_duplicates(subset={\"UserId\",\"ProfileName\",\"Time\",\"Text\"}, keep='first', inplace=False)\n",
    "final.shape"
   ]
  },
  {
   "cell_type": "code",
   "execution_count": 12,
   "metadata": {
    "colab": {
     "base_uri": "https://localhost:8080/",
     "height": 34
    },
    "colab_type": "code",
    "id": "ClLlUtx0kvL3",
    "outputId": "183a6054-a2de-4671-9851-de924d191535"
   },
   "outputs": [
    {
     "data": {
      "text/plain": [
       "80.089"
      ]
     },
     "execution_count": 12,
     "metadata": {
      "tags": []
     },
     "output_type": "execute_result"
    }
   ],
   "source": [
    "#Checking to see that how much % of data still remains in final data\n",
    "(final['Id'].size*1.0)/(filtered_data['Id'].size*1.0)*100"
   ]
  },
  {
   "cell_type": "markdown",
   "metadata": {
    "colab_type": "text",
    "id": "yP-ZKcZFlEgm"
   },
   "source": [
    "<b>Observation:-</b> It was also seen that in two rows given below the value of HelpfulnessNumerator is greater than HelpfulnessDenominator which is not practically possible hence these two rows too are removed from calcualtions"
   ]
  },
  {
   "cell_type": "code",
   "execution_count": 13,
   "metadata": {
    "colab": {
     "base_uri": "https://localhost:8080/",
     "height": 179
    },
    "colab_type": "code",
    "id": "S9ENlvwek4eT",
    "outputId": "7375c112-4928-48ee-9a13-d21df58ded66"
   },
   "outputs": [
    {
     "data": {
      "text/html": [
       "<div>\n",
       "<style scoped>\n",
       "    .dataframe tbody tr th:only-of-type {\n",
       "        vertical-align: middle;\n",
       "    }\n",
       "\n",
       "    .dataframe tbody tr th {\n",
       "        vertical-align: top;\n",
       "    }\n",
       "\n",
       "    .dataframe thead th {\n",
       "        text-align: right;\n",
       "    }\n",
       "</style>\n",
       "<table border=\"1\" class=\"dataframe\">\n",
       "  <thead>\n",
       "    <tr style=\"text-align: right;\">\n",
       "      <th></th>\n",
       "      <th>Id</th>\n",
       "      <th>ProductId</th>\n",
       "      <th>UserId</th>\n",
       "      <th>ProfileName</th>\n",
       "      <th>HelpfulnessNumerator</th>\n",
       "      <th>HelpfulnessDenominator</th>\n",
       "      <th>Score</th>\n",
       "      <th>Time</th>\n",
       "      <th>Summary</th>\n",
       "      <th>Text</th>\n",
       "    </tr>\n",
       "  </thead>\n",
       "  <tbody>\n",
       "    <tr>\n",
       "      <th>0</th>\n",
       "      <td>64422</td>\n",
       "      <td>B000MIDROQ</td>\n",
       "      <td>A161DK06JJMCYF</td>\n",
       "      <td>J. E. Stephens \"Jeanne\"</td>\n",
       "      <td>3</td>\n",
       "      <td>1</td>\n",
       "      <td>5</td>\n",
       "      <td>1224892800</td>\n",
       "      <td>Bought This for My Son at College</td>\n",
       "      <td>My son loves spaghetti so I didn't hesitate or...</td>\n",
       "    </tr>\n",
       "    <tr>\n",
       "      <th>1</th>\n",
       "      <td>44737</td>\n",
       "      <td>B001EQ55RW</td>\n",
       "      <td>A2V0I904FH7ABY</td>\n",
       "      <td>Ram</td>\n",
       "      <td>3</td>\n",
       "      <td>2</td>\n",
       "      <td>4</td>\n",
       "      <td>1212883200</td>\n",
       "      <td>Pure cocoa taste with crunchy almonds inside</td>\n",
       "      <td>It was almost a 'love at first bite' - the per...</td>\n",
       "    </tr>\n",
       "  </tbody>\n",
       "</table>\n",
       "</div>"
      ],
      "text/plain": [
       "      Id   ProductId          UserId              ProfileName  \\\n",
       "0  64422  B000MIDROQ  A161DK06JJMCYF  J. E. Stephens \"Jeanne\"   \n",
       "1  44737  B001EQ55RW  A2V0I904FH7ABY                      Ram   \n",
       "\n",
       "   HelpfulnessNumerator  HelpfulnessDenominator  Score        Time  \\\n",
       "0                     3                       1      5  1224892800   \n",
       "1                     3                       2      4  1212883200   \n",
       "\n",
       "                                        Summary  \\\n",
       "0             Bought This for My Son at College   \n",
       "1  Pure cocoa taste with crunchy almonds inside   \n",
       "\n",
       "                                                Text  \n",
       "0  My son loves spaghetti so I didn't hesitate or...  \n",
       "1  It was almost a 'love at first bite' - the per...  "
      ]
     },
     "execution_count": 13,
     "metadata": {
      "tags": []
     },
     "output_type": "execute_result"
    }
   ],
   "source": [
    "display= pd.read_sql_query(\"\"\"\n",
    "SELECT *\n",
    "FROM Reviews\n",
    "WHERE Score != 3 AND Id=44737 OR Id=64422\n",
    "ORDER BY ProductID\n",
    "\"\"\", con)\n",
    "\n",
    "display.head(2)"
   ]
  },
  {
   "cell_type": "code",
   "execution_count": 0,
   "metadata": {
    "colab": {},
    "colab_type": "code",
    "id": "pQXPunoRlLc_"
   },
   "outputs": [],
   "source": [
    "final=final[final.HelpfulnessNumerator<=final.HelpfulnessDenominator]"
   ]
  },
  {
   "cell_type": "code",
   "execution_count": 15,
   "metadata": {
    "colab": {
     "base_uri": "https://localhost:8080/",
     "height": 85
    },
    "colab_type": "code",
    "id": "Cc7jLHu6lRz5",
    "outputId": "2e4f2374-b1d7-4778-da8d-d00876408c1b"
   },
   "outputs": [
    {
     "name": "stdout",
     "output_type": "stream",
     "text": [
      "(160176, 10)\n"
     ]
    },
    {
     "data": {
      "text/plain": [
       "1    134799\n",
       "0     25377\n",
       "Name: Score, dtype: int64"
      ]
     },
     "execution_count": 15,
     "metadata": {
      "tags": []
     },
     "output_type": "execute_result"
    }
   ],
   "source": [
    "#Before starting the next phase of preprocessing lets see the number of entries left\n",
    "print(final.shape)\n",
    "\n",
    "#How many positive and negative reviews are present in our dataset?\n",
    "final['Score'].value_counts()"
   ]
  },
  {
   "cell_type": "code",
   "execution_count": 16,
   "metadata": {
    "colab": {
     "base_uri": "https://localhost:8080/",
     "height": 173
    },
    "colab_type": "code",
    "id": "NgCXP3JblbLg",
    "outputId": "ca4229b0-46ae-4c3b-d788-e8207f0b473f"
   },
   "outputs": [
    {
     "name": "stdout",
     "output_type": "stream",
     "text": [
      "I remembered this book from my childhood and got it for my kids.  It's just as good as I remembered and my kids love it too.  My older daughter now reads it to her sister.  Good rhymes and nice pictures.\n",
      "==================================================\n",
      "The qualitys not as good as the lamb and rice but it didn't seem to bother his stomach, you get 10 more pounds and it is cheaper wich is a plus for me. You can always ad your own rice and veggies. Its fresher that way and better for him in my opinion. Plus if you you can get it deliverd to your house for free its even better.  Gotta love pitbulls\n",
      "==================================================\n",
      "This is the Japanese version of breadcrumb (pan=bread, a Portuguese loan-word, and&quot;ko-&quot;  is &quot;child of&quot; or of &quot;derived from&quot;.) Panko are used for katsudon, tonkatsu or cutlets served on rice or in soups. The cutlets, pounded chicken or pork, are coated with these light and crispy crumbs and fried. They are not gritty and dense like regular crumbs. They are very nice on deep fried shrimps and decorative for a more gourmet touch.\n",
      "==================================================\n",
      "What can I say... If Douwe Egberts was good enough for my dutch grandmother, it's perfect for me.  I like this flavor best with my Senseo... It has a nice dark full body flavor without the burt bean taste I tend sense with starbucks.  It's a shame most americans haven't bought into single serve coffe makers as our Dutch counter parts have.  Every cup is fresh brewed and doesn't sit long enough on my desk to get that old taste either.\n",
      "==================================================\n"
     ]
    }
   ],
   "source": [
    "######### Preprocessing Reviews Text \n",
    "# printing some random reviews\n",
    "sent_0 = final['Text'].values[0]\n",
    "print(sent_0)\n",
    "print(\"=\"*50)\n",
    "\n",
    "sent_1000 = final['Text'].values[1000]\n",
    "print(sent_1000)\n",
    "print(\"=\"*50)\n",
    "\n",
    "sent_1500 = final['Text'].values[1500]\n",
    "print(sent_1500)\n",
    "print(\"=\"*50)\n",
    "\n",
    "sent_4900 = final['Text'].values[4900]\n",
    "print(sent_4900)\n",
    "print(\"=\"*50)"
   ]
  },
  {
   "cell_type": "code",
   "execution_count": 17,
   "metadata": {
    "colab": {
     "base_uri": "https://localhost:8080/",
     "height": 54
    },
    "colab_type": "code",
    "id": "eOlFWT8Hll8V",
    "outputId": "4b7a29dd-edf4-47d6-ed7a-f3e881cc906d"
   },
   "outputs": [
    {
     "name": "stdout",
     "output_type": "stream",
     "text": [
      "I remembered this book from my childhood and got it for my kids.  It's just as good as I remembered and my kids love it too.  My older daughter now reads it to her sister.  Good rhymes and nice pictures.\n"
     ]
    }
   ],
   "source": [
    "# remove urls from text python: https://stackoverflow.com/a/40823105/4084039\n",
    "sent_1 = re.sub(r\"http\\S+\", \"\", sent_0)\n",
    "sent_1000 = re.sub(r\"http\\S+\", \"\", sent_1000)\n",
    "sent_150 = re.sub(r\"http\\S+\", \"\", sent_1500)\n",
    "sent_4900 = re.sub(r\"http\\S+\", \"\", sent_4900)\n",
    "\n",
    "print(sent_1)"
   ]
  },
  {
   "cell_type": "code",
   "execution_count": 18,
   "metadata": {
    "colab": {
     "base_uri": "https://localhost:8080/",
     "height": 156
    },
    "colab_type": "code",
    "id": "YilORfn8lwYU",
    "outputId": "6a89697c-1e53-4b2d-c862-e2fbc2268508"
   },
   "outputs": [
    {
     "name": "stdout",
     "output_type": "stream",
     "text": [
      "I remembered this book from my childhood and got it for my kids.  It's just as good as I remembered and my kids love it too.  My older daughter now reads it to her sister.  Good rhymes and nice pictures.\n",
      "==================================================\n",
      "The qualitys not as good as the lamb and rice but it didn't seem to bother his stomach, you get 10 more pounds and it is cheaper wich is a plus for me. You can always ad your own rice and veggies. Its fresher that way and better for him in my opinion. Plus if you you can get it deliverd to your house for free its even better.  Gotta love pitbulls\n",
      "==================================================\n",
      "This is the Japanese version of breadcrumb (pan=bread, a Portuguese loan-word, and\"ko-\"  is \"child of\" or of \"derived from\".) Panko are used for katsudon, tonkatsu or cutlets served on rice or in soups. The cutlets, pounded chicken or pork, are coated with these light and crispy crumbs and fried. They are not gritty and dense like regular crumbs. They are very nice on deep fried shrimps and decorative for a more gourmet touch.\n",
      "==================================================\n",
      "What can I say... If Douwe Egberts was good enough for my dutch grandmother, it's perfect for me.  I like this flavor best with my Senseo... It has a nice dark full body flavor without the burt bean taste I tend sense with starbucks.  It's a shame most americans haven't bought into single serve coffe makers as our Dutch counter parts have.  Every cup is fresh brewed and doesn't sit long enough on my desk to get that old taste either.\n"
     ]
    }
   ],
   "source": [
    "# https://stackoverflow.com/questions/16206380/python-beautifulsoup-how-to-remove-all-tags-from-an-element\n",
    "from bs4 import BeautifulSoup\n",
    "\n",
    "soup = BeautifulSoup(sent_0, 'lxml')\n",
    "text = soup.get_text()\n",
    "print(text)\n",
    "print(\"=\"*50)\n",
    "\n",
    "soup = BeautifulSoup(sent_1000, 'lxml')\n",
    "text = soup.get_text()\n",
    "print(text)\n",
    "print(\"=\"*50)\n",
    "\n",
    "soup = BeautifulSoup(sent_1500, 'lxml')\n",
    "text = soup.get_text()\n",
    "print(text)\n",
    "print(\"=\"*50)\n",
    "\n",
    "soup = BeautifulSoup(sent_4900, 'lxml')\n",
    "text = soup.get_text()\n",
    "print(text)"
   ]
  },
  {
   "cell_type": "code",
   "execution_count": 0,
   "metadata": {
    "colab": {},
    "colab_type": "code",
    "id": "fhRHJ-00l0jd"
   },
   "outputs": [],
   "source": [
    "# https://stackoverflow.com/a/47091490/4084039\n",
    "import re\n",
    "\n",
    "def decontracted(phrase):\n",
    "    # specific\n",
    "    phrase = re.sub(r\"won't\", \"will not\", phrase)\n",
    "    phrase = re.sub(r\"can\\'t\", \"can not\", phrase)\n",
    "\n",
    "    # general\n",
    "    phrase = re.sub(r\"n\\'t\", \" not\", phrase)\n",
    "    phrase = re.sub(r\"\\'re\", \" are\", phrase)\n",
    "    phrase = re.sub(r\"\\'s\", \" is\", phrase)\n",
    "    phrase = re.sub(r\"\\'d\", \" would\", phrase)\n",
    "    phrase = re.sub(r\"\\'ll\", \" will\", phrase)\n",
    "    phrase = re.sub(r\"\\'t\", \" not\", phrase)\n",
    "    phrase = re.sub(r\"\\'ve\", \" have\", phrase)\n",
    "    phrase = re.sub(r\"\\'m\", \" am\", phrase)\n",
    "    return phrase"
   ]
  },
  {
   "cell_type": "code",
   "execution_count": 20,
   "metadata": {
    "colab": {
     "base_uri": "https://localhost:8080/",
     "height": 54
    },
    "colab_type": "code",
    "id": "o46DTKepl4mz",
    "outputId": "28687065-d0ca-4d45-941e-35bb82cbfc1b"
   },
   "outputs": [
    {
     "name": "stdout",
     "output_type": "stream",
     "text": [
      "This is the Japanese version of breadcrumb (pan=bread, a Portuguese loan-word, and&quot;ko-&quot;  is &quot;child of&quot; or of &quot;derived from&quot;.) Panko are used for katsudon, tonkatsu or cutlets served on rice or in soups. The cutlets, pounded chicken or pork, are coated with these light and crispy crumbs and fried. They are not gritty and dense like regular crumbs. They are very nice on deep fried shrimps and decorative for a more gourmet touch.\n"
     ]
    }
   ],
   "source": [
    "sent_1500 = decontracted(sent_1500)\n",
    "print(sent_1500)"
   ]
  },
  {
   "cell_type": "code",
   "execution_count": 21,
   "metadata": {
    "colab": {
     "base_uri": "https://localhost:8080/",
     "height": 54
    },
    "colab_type": "code",
    "id": "mh8GzzAQl-B3",
    "outputId": "f02cc58f-f10c-4766-da40-3a1ff8cf698e"
   },
   "outputs": [
    {
     "name": "stdout",
     "output_type": "stream",
     "text": [
      "I remembered this book from my childhood and got it for my kids.  It's just as good as I remembered and my kids love it too.  My older daughter now reads it to her sister.  Good rhymes and nice pictures.\n"
     ]
    }
   ],
   "source": [
    "#remove words with numbers python: https://stackoverflow.com/a/18082370/4084039\n",
    "sent_0 = re.sub(\"\\S*\\d\\S*\", \"\", sent_1).strip()\n",
    "print(sent_0)"
   ]
  },
  {
   "cell_type": "code",
   "execution_count": 22,
   "metadata": {
    "colab": {
     "base_uri": "https://localhost:8080/",
     "height": 54
    },
    "colab_type": "code",
    "id": "Gg_sThZsmNk2",
    "outputId": "56b67cb9-e5b9-4344-82e8-5648251bd862"
   },
   "outputs": [
    {
     "name": "stdout",
     "output_type": "stream",
     "text": [
      "This is the Japanese version of breadcrumb pan bread a Portuguese loan word and quot ko quot is quot child of quot or of quot derived from quot Panko are used for katsudon tonkatsu or cutlets served on rice or in soups The cutlets pounded chicken or pork are coated with these light and crispy crumbs and fried They are not gritty and dense like regular crumbs They are very nice on deep fried shrimps and decorative for a more gourmet touch \n"
     ]
    }
   ],
   "source": [
    "#remove spacial character: https://stackoverflow.com/a/5843547/4084039\n",
    "sent_1500 = re.sub('[^A-Za-z0-9]+', ' ', sent_1500)\n",
    "print(sent_1500)"
   ]
  },
  {
   "cell_type": "code",
   "execution_count": 0,
   "metadata": {
    "colab": {},
    "colab_type": "code",
    "id": "MhtYgU-XmT35"
   },
   "outputs": [],
   "source": [
    "# https://gist.github.com/sebleier/554280\n",
    "# we are removing the words from the stop words list: 'no', 'nor', 'not'\n",
    "# <br /><br /> ==> after the above steps, we are getting \"br br\"\n",
    "# we are including them into stop words list\n",
    "# instead of <br /> if we have <br/> these tags would have revmoved in the 1st step\n",
    "\n",
    "stopwords= set(['br', 'the', 'i', 'me', 'my', 'myself', 'we', 'our', 'ours', 'ourselves', 'you', \"you're\", \"you've\",\\\n",
    "            \"you'll\", \"you'd\", 'your', 'yours', 'yourself', 'yourselves', 'he', 'him', 'his', 'himself', \\\n",
    "            'she', \"she's\", 'her', 'hers', 'herself', 'it', \"it's\", 'its', 'itself', 'they', 'them', 'their',\\\n",
    "            'theirs', 'themselves', 'what', 'which', 'who', 'whom', 'this', 'that', \"that'll\", 'these', 'those', \\\n",
    "            'am', 'is', 'are', 'was', 'were', 'be', 'been', 'being', 'have', 'has', 'had', 'having', 'do', 'does', \\\n",
    "            'did', 'doing', 'a', 'an', 'the', 'and', 'but', 'if', 'or', 'because', 'as', 'until', 'while', 'of', \\\n",
    "            'at', 'by', 'for', 'with', 'about', 'against', 'between', 'into', 'through', 'during', 'before', 'after',\\\n",
    "            'above', 'below', 'to', 'from', 'up', 'down', 'in', 'out', 'on', 'off', 'over', 'under', 'again', 'further',\\\n",
    "            'then', 'once', 'here', 'there', 'when', 'where', 'why', 'how', 'all', 'any', 'both', 'each', 'few', 'more',\\\n",
    "            'most', 'other', 'some', 'such', 'only', 'own', 'same', 'so', 'than', 'too', 'very', \\\n",
    "            's', 't', 'can', 'will', 'just', 'don', \"don't\", 'should', \"should've\", 'now', 'd', 'll', 'm', 'o', 're', \\\n",
    "            've', 'y', 'ain', 'aren', \"aren't\", 'couldn', \"couldn't\", 'didn', \"didn't\", 'doesn', \"doesn't\", 'hadn',\\\n",
    "            \"hadn't\", 'hasn', \"hasn't\", 'haven', \"haven't\", 'isn', \"isn't\", 'ma', 'mightn', \"mightn't\", 'mustn',\\\n",
    "            \"mustn't\", 'needn', \"needn't\", 'shan', \"shan't\", 'shouldn', \"shouldn't\", 'wasn', \"wasn't\", 'weren', \"weren't\", \\\n",
    "            'won', \"won't\", 'wouldn', \"wouldn't\"])"
   ]
  },
  {
   "cell_type": "code",
   "execution_count": 24,
   "metadata": {
    "colab": {
     "base_uri": "https://localhost:8080/",
     "height": 34
    },
    "colab_type": "code",
    "id": "Yi4Q77wamYzE",
    "outputId": "7e87afac-2ccc-4c39-b357-287d08f5c76b"
   },
   "outputs": [
    {
     "name": "stderr",
     "output_type": "stream",
     "text": [
      "100%|██████████| 160176/160176 [01:13<00:00, 2186.88it/s]\n"
     ]
    }
   ],
   "source": [
    "import warnings\n",
    "warnings.filterwarnings(\"ignore\")\n",
    "# Combining all the above stundents \n",
    "from tqdm import tqdm\n",
    "preprocessed_reviews = []\n",
    "# tqdm is for printing the status bar\n",
    "for sentance in tqdm(final['Text'].values):\n",
    "    sentance = re.sub(r\"http\\S+\", \"\", sentance)\n",
    "    sentance = BeautifulSoup(sentance, 'lxml').get_text()\n",
    "    sentance = decontracted(sentance)\n",
    "    sentance = re.sub(\"\\S*\\d\\S*\", \"\", sentance).strip()\n",
    "    sentance = re.sub('[^A-Za-z]+', ' ', sentance)\n",
    "    # https://gist.github.com/sebleier/554280\n",
    "    sentance = ' '.join(e.lower() for e in sentance.split() if e.lower() not in stopwords)\n",
    "    preprocessed_reviews.append(sentance.strip())"
   ]
  },
  {
   "cell_type": "code",
   "execution_count": 25,
   "metadata": {
    "colab": {
     "base_uri": "https://localhost:8080/",
     "height": 301
    },
    "colab_type": "code",
    "id": "kgbJHsb4mhGr",
    "outputId": "ad9f1faf-0198-48c4-d96b-43c8e376cbcd"
   },
   "outputs": [
    {
     "data": {
      "text/html": [
       "<div>\n",
       "<style scoped>\n",
       "    .dataframe tbody tr th:only-of-type {\n",
       "        vertical-align: middle;\n",
       "    }\n",
       "\n",
       "    .dataframe tbody tr th {\n",
       "        vertical-align: top;\n",
       "    }\n",
       "\n",
       "    .dataframe thead th {\n",
       "        text-align: right;\n",
       "    }\n",
       "</style>\n",
       "<table border=\"1\" class=\"dataframe\">\n",
       "  <thead>\n",
       "    <tr style=\"text-align: right;\">\n",
       "      <th></th>\n",
       "      <th>Id</th>\n",
       "      <th>ProductId</th>\n",
       "      <th>UserId</th>\n",
       "      <th>ProfileName</th>\n",
       "      <th>HelpfulnessNumerator</th>\n",
       "      <th>HelpfulnessDenominator</th>\n",
       "      <th>Score</th>\n",
       "      <th>Time</th>\n",
       "      <th>Summary</th>\n",
       "      <th>Text</th>\n",
       "      <th>CleanedText</th>\n",
       "    </tr>\n",
       "  </thead>\n",
       "  <tbody>\n",
       "    <tr>\n",
       "      <th>138695</th>\n",
       "      <td>150513</td>\n",
       "      <td>0006641040</td>\n",
       "      <td>ASH0DZQQF6AIZ</td>\n",
       "      <td>tessarat</td>\n",
       "      <td>0</td>\n",
       "      <td>0</td>\n",
       "      <td>1</td>\n",
       "      <td>1325721600</td>\n",
       "      <td>A classic</td>\n",
       "      <td>I remembered this book from my childhood and g...</td>\n",
       "      <td>remembered book childhood got kids good rememb...</td>\n",
       "    </tr>\n",
       "    <tr>\n",
       "      <th>138707</th>\n",
       "      <td>150525</td>\n",
       "      <td>0006641040</td>\n",
       "      <td>A2QID6VCFTY51R</td>\n",
       "      <td>Rick</td>\n",
       "      <td>1</td>\n",
       "      <td>2</td>\n",
       "      <td>1</td>\n",
       "      <td>1025481600</td>\n",
       "      <td>In December it will be, my snowman's anniversa...</td>\n",
       "      <td>My daughter loves all the \"Really Rosie\" books...</td>\n",
       "      <td>daughter loves really rosie books introduced r...</td>\n",
       "    </tr>\n",
       "  </tbody>\n",
       "</table>\n",
       "</div>"
      ],
      "text/plain": [
       "            Id   ProductId          UserId ProfileName  HelpfulnessNumerator  \\\n",
       "138695  150513  0006641040   ASH0DZQQF6AIZ    tessarat                     0   \n",
       "138707  150525  0006641040  A2QID6VCFTY51R        Rick                     1   \n",
       "\n",
       "        HelpfulnessDenominator  Score        Time  \\\n",
       "138695                       0      1  1325721600   \n",
       "138707                       2      1  1025481600   \n",
       "\n",
       "                                                  Summary  \\\n",
       "138695                                          A classic   \n",
       "138707  In December it will be, my snowman's anniversa...   \n",
       "\n",
       "                                                     Text  \\\n",
       "138695  I remembered this book from my childhood and g...   \n",
       "138707  My daughter loves all the \"Really Rosie\" books...   \n",
       "\n",
       "                                              CleanedText  \n",
       "138695  remembered book childhood got kids good rememb...  \n",
       "138707  daughter loves really rosie books introduced r...  "
      ]
     },
     "execution_count": 25,
     "metadata": {
      "tags": []
     },
     "output_type": "execute_result"
    }
   ],
   "source": [
    "final['CleanedText']=preprocessed_reviews\n",
    "final.head(2)"
   ]
  },
  {
   "cell_type": "code",
   "execution_count": 26,
   "metadata": {
    "colab": {
     "base_uri": "https://localhost:8080/",
     "height": 85
    },
    "colab_type": "code",
    "id": "6Ds6Sb10mjsC",
    "outputId": "14b43548-5be7-401b-9794-a3d66f75077b"
   },
   "outputs": [
    {
     "name": "stdout",
     "output_type": "stream",
     "text": [
      "For 100000 samples :\n",
      " 1    84049\n",
      "0    15951\n",
      "Name: Score, dtype: int64\n"
     ]
    }
   ],
   "source": [
    "data=final.sample(100000)\n",
    "print(\"For 100000 samples :\\n\" , data['Score'].value_counts())"
   ]
  },
  {
   "cell_type": "code",
   "execution_count": 27,
   "metadata": {
    "colab": {
     "base_uri": "https://localhost:8080/",
     "height": 196
    },
    "colab_type": "code",
    "id": "lYAITywEmN26",
    "outputId": "05b83ad8-37a1-49bf-d271-23e7cc9c9597"
   },
   "outputs": [
    {
     "data": {
      "text/html": [
       "<div>\n",
       "<style scoped>\n",
       "    .dataframe tbody tr th:only-of-type {\n",
       "        vertical-align: middle;\n",
       "    }\n",
       "\n",
       "    .dataframe tbody tr th {\n",
       "        vertical-align: top;\n",
       "    }\n",
       "\n",
       "    .dataframe thead th {\n",
       "        text-align: right;\n",
       "    }\n",
       "</style>\n",
       "<table border=\"1\" class=\"dataframe\">\n",
       "  <thead>\n",
       "    <tr style=\"text-align: right;\">\n",
       "      <th></th>\n",
       "      <th>Id</th>\n",
       "      <th>ProductId</th>\n",
       "      <th>UserId</th>\n",
       "      <th>ProfileName</th>\n",
       "      <th>HelpfulnessNumerator</th>\n",
       "      <th>HelpfulnessDenominator</th>\n",
       "      <th>Score</th>\n",
       "      <th>Time</th>\n",
       "      <th>Summary</th>\n",
       "      <th>Text</th>\n",
       "      <th>CleanedText</th>\n",
       "    </tr>\n",
       "  </thead>\n",
       "  <tbody>\n",
       "    <tr>\n",
       "      <th>70688</th>\n",
       "      <td>76882</td>\n",
       "      <td>B00002N8SM</td>\n",
       "      <td>A32DW342WBJ6BX</td>\n",
       "      <td>Buttersugar</td>\n",
       "      <td>0</td>\n",
       "      <td>0</td>\n",
       "      <td>1</td>\n",
       "      <td>2000-01-24</td>\n",
       "      <td>A sure death for flies</td>\n",
       "      <td>I bought a few of these after my apartment was...</td>\n",
       "      <td>bought apartment infested fruit flies hours tr...</td>\n",
       "    </tr>\n",
       "    <tr>\n",
       "      <th>1146</th>\n",
       "      <td>1245</td>\n",
       "      <td>B00002Z754</td>\n",
       "      <td>A29Z5PI9BW2PU3</td>\n",
       "      <td>Robbie</td>\n",
       "      <td>7</td>\n",
       "      <td>7</td>\n",
       "      <td>1</td>\n",
       "      <td>2000-06-23</td>\n",
       "      <td>Great Product</td>\n",
       "      <td>This was a really good idea and the final prod...</td>\n",
       "      <td>really good idea final product outstanding use...</td>\n",
       "    </tr>\n",
       "  </tbody>\n",
       "</table>\n",
       "</div>"
      ],
      "text/plain": [
       "          Id   ProductId          UserId  ProfileName  HelpfulnessNumerator  \\\n",
       "70688  76882  B00002N8SM  A32DW342WBJ6BX  Buttersugar                     0   \n",
       "1146    1245  B00002Z754  A29Z5PI9BW2PU3       Robbie                     7   \n",
       "\n",
       "       HelpfulnessDenominator  Score       Time                 Summary  \\\n",
       "70688                       0      1 2000-01-24  A sure death for flies   \n",
       "1146                        7      1 2000-06-23           Great Product   \n",
       "\n",
       "                                                    Text  \\\n",
       "70688  I bought a few of these after my apartment was...   \n",
       "1146   This was a really good idea and the final prod...   \n",
       "\n",
       "                                             CleanedText  \n",
       "70688  bought apartment infested fruit flies hours tr...  \n",
       "1146   really good idea final product outstanding use...  "
      ]
     },
     "execution_count": 27,
     "metadata": {
      "tags": []
     },
     "output_type": "execute_result"
    }
   ],
   "source": [
    "#Sorting According to Time\n",
    "data[\"Time\"] = pd.to_datetime(data[\"Time\"], unit = \"s\")\n",
    "data = data.sort_values(by = \"Time\",axis=0, ascending=True, inplace=False, kind='quicksort', na_position='last')\n",
    "data.head(2)"
   ]
  },
  {
   "cell_type": "code",
   "execution_count": 0,
   "metadata": {
    "colab": {},
    "colab_type": "code",
    "id": "CWtQMl5zm2Kq"
   },
   "outputs": [],
   "source": [
    "# this is for 100k points\n",
    "X=data['CleanedText']\n",
    "y=data['Score']"
   ]
  },
  {
   "cell_type": "code",
   "execution_count": 29,
   "metadata": {
    "colab": {
     "base_uri": "https://localhost:8080/",
     "height": 68
    },
    "colab_type": "code",
    "id": "YRdTyPWtnEOe",
    "outputId": "a5388f38-d3ae-481d-b3c4-2188b238a954"
   },
   "outputs": [
    {
     "name": "stdout",
     "output_type": "stream",
     "text": [
      "(44890,) (44890,)\n",
      "(22110,) (22110,)\n",
      "(33000,) (33000,)\n"
     ]
    }
   ],
   "source": [
    "from sklearn.model_selection import train_test_split\n",
    "X_train, X_test, y_train, y_test = train_test_split(X, y, test_size=0.33) # this is random splitting\n",
    "X_train, X_cv, y_train, y_cv = train_test_split(X_train, y_train, test_size=0.33) # random splitting\n",
    "print(X_train.shape, y_train.shape)\n",
    "print(X_cv.shape, y_cv.shape)\n",
    "print(X_test.shape, y_test.shape)"
   ]
  },
  {
   "cell_type": "code",
   "execution_count": 0,
   "metadata": {
    "colab": {},
    "colab_type": "code",
    "id": "Hq_DBUgEgj5T"
   },
   "outputs": [],
   "source": [
    "import pandas as pd\n",
    "import numpy as np\n",
    "import matplotlib.pyplot as plt\n",
    "from sklearn.metrics import accuracy_score\n",
    "from sklearn.model_selection import cross_val_score\n",
    "from collections import Counter\n",
    "from sklearn.model_selection import cross_validate\n",
    "from sklearn.metrics import confusion_matrix \n",
    "from sklearn.feature_extraction.text import CountVectorizer"
   ]
  },
  {
   "cell_type": "code",
   "execution_count": 0,
   "metadata": {
    "colab": {},
    "colab_type": "code",
    "id": "Mz4P24Rfgj5m"
   },
   "outputs": [],
   "source": [
    "from sklearn.model_selection import train_test_split\n",
    "#from sklearn.grid_search import GridSearchCV\n",
    "from sklearn.datasets import *\n",
    "from sklearn.linear_model import LogisticRegression\n",
    "from sklearn import svm, datasets\n",
    "from sklearn.model_selection import GridSearchCV\n",
    "from sklearn.ensemble import RandomForestClassifier\n",
    "from sklearn.ensemble import VotingClassifier\n",
    "from sklearn.tree import DecisionTreeClassifier\n",
    "from scipy.stats import uniform\n",
    "from sklearn import linear_model, datasets\n",
    "from collections import Counter\n",
    "from sklearn import model_selection\n",
    "from sklearn.metrics import roc_auc_score\n",
    "from sklearn.metrics import confusion_matrix"
   ]
  },
  {
   "cell_type": "code",
   "execution_count": 32,
   "metadata": {
    "colab": {
     "base_uri": "https://localhost:8080/",
     "height": 34
    },
    "colab_type": "code",
    "id": "MXRj3p3dgj62",
    "outputId": "42dc510f-f161-4edc-f286-0c65ea08a865"
   },
   "outputs": [
    {
     "name": "stdout",
     "output_type": "stream",
     "text": [
      "************************************************************************************************************************\n"
     ]
    }
   ],
   "source": [
    "print(\"**\"*60)"
   ]
  },
  {
   "cell_type": "markdown",
   "metadata": {
    "colab_type": "text",
    "id": "68ah3Rm9gj7B"
   },
   "source": [
    "# BOW"
   ]
  },
  {
   "cell_type": "code",
   "execution_count": 0,
   "metadata": {
    "colab": {},
    "colab_type": "code",
    "id": "auTOX33S3yTg"
   },
   "outputs": [],
   "source": [
    "bow =CountVectorizer()"
   ]
  },
  {
   "cell_type": "code",
   "execution_count": 0,
   "metadata": {
    "colab": {
     "base_uri": "https://localhost:8080/",
     "height": 85
    },
    "colab_type": "code",
    "id": "dp4Tl6B84R8j",
    "outputId": "ace58113-46f1-42ff-e988-f378e85ac97f"
   },
   "outputs": [
    {
     "name": "stdout",
     "output_type": "stream",
     "text": [
      "After vectorizations\n",
      "(44890, 40603) (44890,)\n",
      "(22110, 40603) (22110,)\n",
      "(33000, 40603) (33000,)\n"
     ]
    }
   ],
   "source": [
    "# we use the fitted CountVectorizer to convert the text to vector\n",
    "X_train_bow = bow.fit_transform(X_train)\n",
    "X_cv_bow = bow.transform(X_cv)\n",
    "X_test_bow = bow.transform(X_test)\n",
    "\n",
    "print(\"After vectorizations\")\n",
    "print(X_train_bow.shape, y_train.shape)\n",
    "print(X_cv_bow.shape, y_cv.shape)\n",
    "print(X_test_bow.shape, y_test.shape)"
   ]
  },
  {
   "cell_type": "markdown",
   "metadata": {
    "colab_type": "text",
    "id": "I4dsRt-j_b5i"
   },
   "source": [
    "### Applying Logistic Regression with L1 regularization on BOW"
   ]
  },
  {
   "cell_type": "code",
   "execution_count": 0,
   "metadata": {
    "colab": {
     "base_uri": "https://localhost:8080/",
     "height": 294
    },
    "colab_type": "code",
    "id": "qhKJ4aMF4x3e",
    "outputId": "18609d84-786b-479e-c085-d4c5ba935275"
   },
   "outputs": [
    {
     "data": {
      "image/png": "[encoded data removed]",
      "text/plain": [
       "<Figure size 432x288 with 1 Axes>"
      ]
     },
     "metadata": {
      "tags": []
     },
     "output_type": "display_data"
    }
   ],
   "source": [
    "\n",
    "C = [0.00001,0.00001,0.0001,0.001,0.01,0.1,1,10,100,1000,10000] #declared both l1 and l2, but checking only for L1\n",
    "from pylab import scatter\n",
    "import pylab\n",
    "import math\n",
    "penalty=['l1','l2']\n",
    "train_auc_l1 = []\n",
    "cv_auc_l1 = []\n",
    "for i in C:\n",
    "    neigh_l1 = LogisticRegression(penalty='l1',C=i)\n",
    "    model_l1 = neigh_l1.fit(X_train_bow, y_train)\n",
    "    # roc_auc_score(y_true, y_score) the 2nd parameter should be probability estimates of the positive class\n",
    "    # not the predicted outputs\n",
    "    y_train_pred_l1 =  model_l1.predict_proba(X_train_bow)[:,1]\n",
    "    y_cv_pred_l1 =  model_l1.predict_proba(X_cv_bow)[:,1]\n",
    "    train_auc_l1.append(roc_auc_score(y_train,y_train_pred_l1))\n",
    "    cv_auc_l1.append(roc_auc_score(y_cv, y_cv_pred_l1))\n",
    "    \n",
    "\n",
    "plt.plot(np.log(C), train_auc_l1, label='Train AUC')\n",
    "plt.plot(np.log(C), cv_auc_l1, label='CV AUC')\n",
    "plt.legend()\n",
    "plt.xlabel(\"K: hyperparameter\")\n",
    "plt.ylabel(\"AUC\")\n",
    "plt.title(\"ERROR PLOTS\")\n",
    "plt.show()"
   ]
  },
  {
   "cell_type": "code",
   "execution_count": 0,
   "metadata": {
    "colab": {
     "base_uri": "https://localhost:8080/",
     "height": 102
    },
    "colab_type": "code",
    "id": "TdGYeW2-syzX",
    "outputId": "b073b009-8124-453b-a44a-fc59912f7a52"
   },
   "outputs": [
    {
     "name": "stdout",
     "output_type": "stream",
     "text": [
      "\n",
      "The optimal number of train value in C is 1000.000000.\n",
      "--------------------------------------------------\n",
      "\n",
      "The optimal number of cv value in C is 1.000000.\n"
     ]
    }
   ],
   "source": [
    "optimal_alpha_train = C[train_auc_l1.index(max(train_auc_l1))]\n",
    "print('\\nThe optimal number of train value in C is %f.' % optimal_alpha_train)\n",
    "print('-'*50)\n",
    "optimal_alpha_cv = C[cv_auc_l1.index(max(cv_auc_l1))]\n",
    "print('\\nThe optimal number of cv value in C is %f.' % optimal_alpha_cv)"
   ]
  },
  {
   "cell_type": "code",
   "execution_count": 0,
   "metadata": {
    "colab": {},
    "colab_type": "code",
    "id": "zK8fX2EZ5YqY"
   },
   "outputs": [],
   "source": [
    "#                      ***Note :-  By using math.log we can visulize a model in correct manner.\n",
    "#** By Observing to the model and max(cv) that shown the two lines are are coming and joining together at point 0.1"
   ]
  },
  {
   "cell_type": "markdown",
   "metadata": {
    "colab_type": "text",
    "id": "HtKyvWgC5ZmX"
   },
   "source": [
    "### Sparcity for L1 regularization\n",
    "#### For More Sparsity (Fewer elements of W* being non-zero) by increasing Lambda (decreasing C)"
   ]
  },
  {
   "cell_type": "code",
   "execution_count": 0,
   "metadata": {
    "colab": {
     "base_uri": "https://localhost:8080/",
     "height": 34
    },
    "colab_type": "code",
    "id": "O6k5uDm1wSUi",
    "outputId": "d09de52e-64a1-41d5-f046-860c75dbfb86"
   },
   "outputs": [
    {
     "name": "stdout",
     "output_type": "stream",
     "text": [
      "0\n"
     ]
    }
   ],
   "source": [
    "\n",
    "neighl1 = LogisticRegression(penalty='l1',C=0.00001)\n",
    "modell1 = neighl1.fit(X_train_bow, y_train)\n",
    "w = modell1.coef_\n",
    "print(np.count_nonzero(w))"
   ]
  },
  {
   "cell_type": "code",
   "execution_count": 0,
   "metadata": {
    "colab": {
     "base_uri": "https://localhost:8080/",
     "height": 34
    },
    "colab_type": "code",
    "id": "25Dm5z4v5VsB",
    "outputId": "0d7d6b40-84bc-448b-e43c-9d6803004f63"
   },
   "outputs": [
    {
     "name": "stdout",
     "output_type": "stream",
     "text": [
      "4\n"
     ]
    }
   ],
   "source": [
    "neighl1 = LogisticRegression(penalty='l1',C=0.001)\n",
    "modell1 = neighl1.fit(X_train_bow, y_train)\n",
    "w = modell1.coef_\n",
    "print(np.count_nonzero(w))"
   ]
  },
  {
   "cell_type": "code",
   "execution_count": 0,
   "metadata": {
    "colab": {
     "base_uri": "https://localhost:8080/",
     "height": 34
    },
    "colab_type": "code",
    "id": "W7Xzm_qY5pYh",
    "outputId": "fb7a4b60-f82d-4988-e43c-8ddc41ee1362"
   },
   "outputs": [
    {
     "name": "stdout",
     "output_type": "stream",
     "text": [
      "86\n"
     ]
    }
   ],
   "source": [
    "neighl1 = LogisticRegression(penalty='l1',C=0.01)\n",
    "modell1 = neighl1.fit(X_train_bow, y_train)\n",
    "w = modell1.coef_\n",
    "print(np.count_nonzero(w))"
   ]
  },
  {
   "cell_type": "code",
   "execution_count": 0,
   "metadata": {
    "colab": {
     "base_uri": "https://localhost:8080/",
     "height": 34
    },
    "colab_type": "code",
    "id": "wz08YUu-5tcJ",
    "outputId": "66c4ccd4-720c-4c0a-c211-0d4861ff0629"
   },
   "outputs": [
    {
     "name": "stdout",
     "output_type": "stream",
     "text": [
      "726\n"
     ]
    }
   ],
   "source": [
    "neighl1 = LogisticRegression(penalty='l1',C=0.1)\n",
    "modell1 = neighl1.fit(X_train_bow, y_train)\n",
    "w = modell1.coef_\n",
    "print(np.count_nonzero(w))"
   ]
  },
  {
   "cell_type": "code",
   "execution_count": 0,
   "metadata": {
    "colab": {
     "base_uri": "https://localhost:8080/",
     "height": 34
    },
    "colab_type": "code",
    "id": "E20Yry2B5wn8",
    "outputId": "fd9d9da5-89ce-419a-ca1b-9bf3c700d8bf"
   },
   "outputs": [
    {
     "name": "stdout",
     "output_type": "stream",
     "text": [
      "3794\n"
     ]
    }
   ],
   "source": [
    "neighl1 = LogisticRegression(penalty='l1',C=1.0)\n",
    "modell1 = neighl1.fit(X_train_bow, y_train)\n",
    "w = modell1.coef_\n",
    "print(np.count_nonzero(w))"
   ]
  },
  {
   "cell_type": "code",
   "execution_count": 0,
   "metadata": {
    "colab": {
     "base_uri": "https://localhost:8080/",
     "height": 34
    },
    "colab_type": "code",
    "id": "5buymbHx5lzL",
    "outputId": "5e998588-c38a-4916-8ee6-667e7ac07b85"
   },
   "outputs": [
    {
     "name": "stdout",
     "output_type": "stream",
     "text": [
      "8334\n"
     ]
    }
   ],
   "source": [
    "neighl1 = LogisticRegression(penalty='l1',C=100)\n",
    "modell1 = neighl1.fit(X_train_bow, y_train)\n",
    "w = modell1.coef_\n",
    "print(np.count_nonzero(w))"
   ]
  },
  {
   "cell_type": "code",
   "execution_count": 0,
   "metadata": {
    "colab": {
     "base_uri": "https://localhost:8080/",
     "height": 34
    },
    "colab_type": "code",
    "id": "y6i1qi-553QE",
    "outputId": "87ce9867-c1d3-4d2f-dcc6-a11c93cd2094"
   },
   "outputs": [
    {
     "name": "stdout",
     "output_type": "stream",
     "text": [
      "10445\n"
     ]
    }
   ],
   "source": [
    "neighl1 = LogisticRegression(penalty='l1',C=1000)\n",
    "modell1 = neighl1.fit(X_train_bow, y_train)\n",
    "w = modell1.coef_\n",
    "print(np.count_nonzero(w))"
   ]
  },
  {
   "cell_type": "code",
   "execution_count": 0,
   "metadata": {
    "colab": {
     "base_uri": "https://localhost:8080/",
     "height": 85
    },
    "colab_type": "code",
    "id": "3u0T-Bxd6hH8",
    "outputId": "64e44f56-20c9-4a76-a5c7-2fd56a822462"
   },
   "outputs": [
    {
     "data": {
      "text/plain": [
       "LogisticRegression(C=1, class_weight=None, dual=False, fit_intercept=True,\n",
       "          intercept_scaling=1, max_iter=100, multi_class='warn',\n",
       "          n_jobs=None, penalty='l1', random_state=None, solver='warn',\n",
       "          tol=0.0001, verbose=0, warm_start=False)"
      ]
     },
     "execution_count": 43,
     "metadata": {
      "tags": []
     },
     "output_type": "execute_result"
    }
   ],
   "source": [
    "# instantiate learning model alpha = optimal_alpha\n",
    "nb_optimal = LogisticRegression(penalty='l1',C = optimal_alpha_cv)\n",
    "# fitting the model\n",
    "nb_optimal.fit(X_train_bow, y_train)"
   ]
  },
  {
   "cell_type": "code",
   "execution_count": 0,
   "metadata": {
    "colab": {
     "base_uri": "https://localhost:8080/",
     "height": 51
    },
    "colab_type": "code",
    "id": "5q76hQ-k7TKa",
    "outputId": "b8e61e20-1365-4f71-afde-18968a31d547"
   },
   "outputs": [
    {
     "name": "stdout",
     "output_type": "stream",
     "text": [
      "\n",
      "The auc socre for value= 1.000000 is 0.811633%\n"
     ]
    }
   ],
   "source": [
    "pred_bow=nb_optimal.predict(X_test_bow)\n",
    "pred_bow_train=nb_optimal.predict(X_train_bow)\n",
    "# evaluate accuracy on test data\n",
    "from sklearn.metrics import roc_auc_score\n",
    "auc_bow = roc_auc_score(y_test, pred_bow)\n",
    "print('\\nThe auc socre for value= %f is %f%%' % (optimal_alpha_cv, auc_bow))"
   ]
  },
  {
   "cell_type": "code",
   "execution_count": 0,
   "metadata": {
    "colab": {
     "base_uri": "https://localhost:8080/",
     "height": 690
    },
    "colab_type": "code",
    "id": "DABBwaDx8xUY",
    "outputId": "a6e0c35f-8d81-4078-bcd8-dbd1b2d82ba7"
   },
   "outputs": [
    {
     "name": "stdout",
     "output_type": "stream",
     "text": [
      "[[ 3416  1757]\n",
      " [ 1032 26795]]\n",
      "   \n"
     ]
    },
    {
     "data": {
      "image/png": "[encoded data removed]",
      "text/plain": [
       "<Figure size 432x288 with 2 Axes>"
      ]
     },
     "metadata": {
      "tags": []
     },
     "output_type": "display_data"
    },
    {
     "name": "stdout",
     "output_type": "stream",
     "text": [
      "***************************************************************************\n",
      "[[ 5887  1314]\n",
      " [  416 37273]]\n",
      "   \n"
     ]
    },
    {
     "data": {
      "image/png": "[encoded data removed]",
      "text/plain": [
       "<Figure size 432x288 with 2 Axes>"
      ]
     },
     "metadata": {
      "tags": []
     },
     "output_type": "display_data"
    }
   ],
   "source": [
    "# Confusion Matrix\n",
    "from sklearn.metrics import confusion_matrix\n",
    "cm_bow = confusion_matrix(y_test, pred_bow)\n",
    "print(cm_bow)\n",
    "print('   ')\n",
    "# plotting confusion matrix to describe the performance of classifier.\n",
    "import seaborn as sns\n",
    "class_label = [\"negative\", \"positive\"]\n",
    "df_cm = pd.DataFrame(cm_bow, index = class_label, columns = class_label)\n",
    "sns.heatmap(df_cm, annot = True, fmt = \"d\")\n",
    "plt.title(\"Confusion Matrix\")\n",
    "plt.xlabel(\"Predicted Label\")\n",
    "plt.ylabel(\"True Label\")\n",
    "plt.show()\n",
    "\n",
    "print('***************************************************************************')\n",
    "\n",
    "cm_bow1 = confusion_matrix(y_train, pred_bow_train)\n",
    "print(cm_bow1)\n",
    "print('   ')\n",
    "# plotting confusion matrix to describe the performance of classifier.\n",
    "import seaborn as sns\n",
    "class_label1 = [\"negative\", \"positive\"]\n",
    "df_cm1 = pd.DataFrame(cm_bow1, index = class_label1, columns = class_label1)\n",
    "sns.heatmap(df_cm1, annot = True, fmt = \"d\")\n",
    "plt.title(\"Confusion Matrix\")\n",
    "plt.xlabel(\"Predicted Label\")\n",
    "plt.ylabel(\"True Label\")\n",
    "plt.show()"
   ]
  },
  {
   "cell_type": "code",
   "execution_count": 0,
   "metadata": {
    "colab": {},
    "colab_type": "code",
    "id": "uFPsB9N1925Q"
   },
   "outputs": [],
   "source": []
  },
  {
   "cell_type": "code",
   "execution_count": 0,
   "metadata": {
    "colab": {
     "base_uri": "https://localhost:8080/",
     "height": 294
    },
    "colab_type": "code",
    "id": "1zYYmqft6ev0",
    "outputId": "a2095575-9d9c-4ebb-cce7-fa4986843425"
   },
   "outputs": [
    {
     "data": {
      "image/png": "[encoded data removed]",
      "text/plain": [
       "<Figure size 432x288 with 1 Axes>"
      ]
     },
     "metadata": {
      "tags": []
     },
     "output_type": "display_data"
    }
   ],
   "source": [
    "### Compute ROC curve and ROC area for predictions on l1 validation set\n",
    "from sklearn import metrics\n",
    "y_test_predict =  nb_optimal.predict_proba(X_test_bow)[:,1]\n",
    "y_train_predict =  nb_optimal.predict_proba(X_train_bow)[:,1]\n",
    "fpr1,tpr1,_ =  metrics.roc_curve(y_train,y_train_predict) \n",
    "fpr,tpr, _ = metrics.roc_curve(y_test,y_test_predict)\n",
    "\n",
    "roc_auc = auc(fpr, tpr) \n",
    "roc_auc1 = auc(fpr1,tpr1) \n",
    "### Plot\n",
    "plt.figure()\n",
    "lw = 3\n",
    "plt.plot(fpr, tpr, color='darkorange',\n",
    "         lw=lw, label='ROC curve_test (area = %0.2f)' % roc_auc)\n",
    "plt.plot(fpr1,tpr1, color='navy', lw=lw, linestyle='--',label='ROC curve_train (area = %0.2f)' % roc_auc1)\n",
    "plt.xlim([0.0, 1.0])\n",
    "plt.ylim([0.0, 1.05])\n",
    "plt.xlabel('False Positive Rate')\n",
    "plt.ylabel('True Positive Rate')\n",
    "plt.title('Roc_Auc curve')\n",
    "plt.legend()\n",
    "plt.show()"
   ]
  },
  {
   "cell_type": "markdown",
   "metadata": {
    "colab_type": "text",
    "id": "ZA-lJFSQ_PdD"
   },
   "source": [
    "### Applying Logistic Regression with L2 regularization on BOW"
   ]
  },
  {
   "cell_type": "code",
   "execution_count": 0,
   "metadata": {
    "colab": {
     "base_uri": "https://localhost:8080/",
     "height": 294
    },
    "colab_type": "code",
    "id": "OKqnaI9puDYO",
    "outputId": "45ebf391-8786-40a1-9dcb-e791b62eec0e"
   },
   "outputs": [
    {
     "data": {
      "image/png": "[encoded data removed]",
      "text/plain": [
       "<Figure size 432x288 with 1 Axes>"
      ]
     },
     "metadata": {
      "tags": []
     },
     "output_type": "display_data"
    }
   ],
   "source": [
    "\n",
    "from pylab import scatter\n",
    "import pylab\n",
    "import math\n",
    "train_auc_l2 = []\n",
    "cv_auc_l2 = []\n",
    "C= [0.00001,0.00001,0.0001,0.001,0.01,0.1,1,10,100,1000,10000] ## before i have taken with same parameters \n",
    "for j in C:\n",
    "    neigh_l2 = LogisticRegression(penalty='l2',C=j)\n",
    "    model_l2 = neigh_l2.fit(X_train_bow, y_train)\n",
    "    # roc_auc_score(y_true, y_score) the 2nd parameter should be probability estimates of the positive class\n",
    "    # not the predicted outputs\n",
    "    y_train_pred_l2 =  model_l2.predict_proba(X_train_bow)[:,1]\n",
    "    y_cv_pred_l2 =  model_l2.predict_proba(X_cv_bow)[:,1]\n",
    "    \n",
    "    \n",
    "    train_auc_l2.append(roc_auc_score(y_train,y_train_pred_l2))\n",
    "    cv_auc_l2.append(roc_auc_score(y_cv, y_cv_pred_l2))\n",
    "    \n",
    "\n",
    "plt.plot(list(map(lambda x:math.log(x),C)), train_auc_l2, label='Train AUC')\n",
    "plt.plot(list(map(lambda y:math.log(y),C)), cv_auc_l2, label='CV AUC')\n",
    "plt.legend()\n",
    "plt.xlabel(\"K: hyperparameter\")\n",
    "plt.ylabel(\"AUC\")\n",
    "plt.title(\"ERROR PLOTS\")\n",
    "plt.show()"
   ]
  },
  {
   "cell_type": "code",
   "execution_count": 0,
   "metadata": {
    "colab": {
     "base_uri": "https://localhost:8080/",
     "height": 102
    },
    "colab_type": "code",
    "id": "Tzk2s_GCvK8Q",
    "outputId": "37974fdd-d6a0-4be5-a479-31c92c4a14a8"
   },
   "outputs": [
    {
     "name": "stdout",
     "output_type": "stream",
     "text": [
      "\n",
      "The optimal number of train value in C is 1000.000000.\n",
      "--------------------------------------------------\n",
      "\n",
      "The optimal number of cv value in C is 0.100000.\n"
     ]
    }
   ],
   "source": [
    "optimal_alpha_train1 = C[train_auc_l2.index(max(train_auc_l2))]\n",
    "print('\\nThe optimal number of train value in C is %f.' % optimal_alpha_train1)\n",
    "print('-'*50)\n",
    "optimal_alpha_cv1 = C[cv_auc_l2.index(max(cv_auc_l2))]\n",
    "print('\\nThe optimal number of cv value in C is %f.' % optimal_alpha_cv1)"
   ]
  },
  {
   "cell_type": "code",
   "execution_count": 0,
   "metadata": {
    "colab": {
     "base_uri": "https://localhost:8080/",
     "height": 85
    },
    "colab_type": "code",
    "id": "RFQFbVB-sHJB",
    "outputId": "30b3a3cb-8aab-4063-e117-b2334bf84977"
   },
   "outputs": [
    {
     "data": {
      "text/plain": [
       "LogisticRegression(C=0.1, class_weight=None, dual=False, fit_intercept=True,\n",
       "          intercept_scaling=1, max_iter=100, multi_class='warn',\n",
       "          n_jobs=None, penalty='l2', random_state=None, solver='warn',\n",
       "          tol=0.0001, verbose=0, warm_start=False)"
      ]
     },
     "execution_count": 42,
     "metadata": {
      "tags": []
     },
     "output_type": "execute_result"
    }
   ],
   "source": [
    "# instantiate learning model alpha = optimal_alpha\n",
    "nb_optimal_l2 = LogisticRegression(penalty='l2', C = optimal_alpha_cv1)\n",
    "# fitting the model\n",
    "nb_optimal_l2.fit(X_train_bow, y_train)"
   ]
  },
  {
   "cell_type": "markdown",
   "metadata": {
    "colab_type": "text",
    "id": "Ug3MvvOytW96"
   },
   "source": [
    "Observation : By Observing to L1 and L2 in the model i applied., max of cv is 0.1 in L2 and 1.0 in L1., max train 10000 in L1 and max train is 1000 in L2"
   ]
  },
  {
   "cell_type": "code",
   "execution_count": 0,
   "metadata": {
    "colab": {
     "base_uri": "https://localhost:8080/",
     "height": 51
    },
    "colab_type": "code",
    "id": "ZxhTLTZtrUx_",
    "outputId": "6c3d5852-3c02-417e-dc14-e5f0e5f47454"
   },
   "outputs": [
    {
     "name": "stdout",
     "output_type": "stream",
     "text": [
      "\n",
      "The auc socre for value= 0.100000 is 0.790487%\n"
     ]
    }
   ],
   "source": [
    "#predicting\n",
    "pred_bow_test1=nb_optimal_l2.predict(X_test_bow)\n",
    "pred_bow_train1=nb_optimal_l2.predict(X_train_bow)\n",
    "# evaluate accuracy on test data\n",
    "from sklearn.metrics import roc_auc_score\n",
    "auc_bow1 = roc_auc_score(y_test, pred_bow_test1)\n",
    "print('\\nThe auc socre for value= %f is %f%%' % (optimal_alpha_cv1, auc_bow1))"
   ]
  },
  {
   "cell_type": "code",
   "execution_count": 0,
   "metadata": {
    "colab": {
     "base_uri": "https://localhost:8080/",
     "height": 690
    },
    "colab_type": "code",
    "id": "8RHEAimtxKTT",
    "outputId": "f002d210-1228-48dc-b42c-e021298f7745"
   },
   "outputs": [
    {
     "name": "stdout",
     "output_type": "stream",
     "text": [
      "[[ 3166  2037]\n",
      " [  765 27032]]\n",
      "   \n"
     ]
    },
    {
     "data": {
      "image/png": "[encoded data removed]",
      "text/plain": [
       "<Figure size 432x288 with 2 Axes>"
      ]
     },
     "metadata": {
      "tags": []
     },
     "output_type": "display_data"
    },
    {
     "name": "stdout",
     "output_type": "stream",
     "text": [
      "***************************************************************************\n",
      "[[ 5050  2134]\n",
      " [  471 37235]]\n",
      "   \n"
     ]
    },
    {
     "data": {
      "image/png": "[encoded data removed]",
      "text/plain": [
       "<Figure size 432x288 with 2 Axes>"
      ]
     },
     "metadata": {
      "tags": []
     },
     "output_type": "display_data"
    }
   ],
   "source": [
    "# Confusion Matrix\n",
    "from sklearn.metrics import confusion_matrix\n",
    "cm_bow1 = confusion_matrix(y_test, pred_bow_test1)\n",
    "print(cm_bow1)\n",
    "print('   ')\n",
    "# plotting confusion matrix to describe the performance of classifier.\n",
    "import seaborn as sns\n",
    "class_label = [\"negative\", \"positive\"]\n",
    "df_cm1 = pd.DataFrame(cm_bow1, index = class_label, columns = class_label)\n",
    "sns.heatmap(df_cm1, annot = True, fmt = \"d\")\n",
    "plt.title(\"Confusion Matrix\")\n",
    "plt.xlabel(\"Predicted Label\")\n",
    "plt.ylabel(\"True Label\")\n",
    "plt.show()\n",
    "\n",
    "print('***************************************************************************')\n",
    "\n",
    "cm_bow2 = confusion_matrix(y_train, pred_bow_train1)\n",
    "print(cm_bow2)\n",
    "print('   ')\n",
    "# plotting confusion matrix to describe the performance of classifier.\n",
    "import seaborn as sns\n",
    "class_label1 = [\"negative\", \"positive\"]\n",
    "df_cm2 = pd.DataFrame(cm_bow2, index = class_label1, columns = class_label1)\n",
    "sns.heatmap(df_cm2, annot = True, fmt = \"d\")\n",
    "plt.title(\"Confusion Matrix\")\n",
    "plt.xlabel(\"Predicted Label\")\n",
    "plt.ylabel(\"True Label\")\n",
    "plt.show()"
   ]
  },
  {
   "cell_type": "code",
   "execution_count": 0,
   "metadata": {
    "colab": {
     "base_uri": "https://localhost:8080/",
     "height": 294
    },
    "colab_type": "code",
    "id": "nDsRNgBjx7vt",
    "outputId": "da223170-ef9b-4053-d0ed-a81ef9fcc95a"
   },
   "outputs": [
    {
     "data": {
      "image/png": "[encoded data removed]",
      "text/plain": [
       "<Figure size 432x288 with 1 Axes>"
      ]
     },
     "metadata": {
      "tags": []
     },
     "output_type": "display_data"
    }
   ],
   "source": [
    "### Compute ROC curve and ROC area for predictions on l2 validation set\n",
    "from sklearn import metrics\n",
    "y_test_predict1 =  nb_optimal_l2.predict_proba(X_test_bow)[:,1]\n",
    "y_train_predict1=  nb_optimal_l2.predict_proba(X_train_bow)[:,1]\n",
    "fpr2,tpr2,_ =  metrics.roc_curve(y_train,y_train_predict1) \n",
    "fpr11,tpr11, _ = metrics.roc_curve(y_test,y_test_predict1)\n",
    "\n",
    "roc_auc_test = auc(fpr11, tpr11) \n",
    "roc_auc_train1 = auc(fpr2,tpr2) \n",
    "### Plot\n",
    "plt.figure()\n",
    "lw = 3 \n",
    "plt.plot(fpr11, tpr11, color='darkorange',\n",
    "         lw=lw, label='ROC curve_test (area = %0.2f)' % roc_auc_test)\n",
    "plt.plot(fpr2,tpr2 , color='navy', lw=lw, linestyle='--',label='ROC curve_train (area = %0.2f)' % roc_auc_train1)\n",
    "plt.xlim([0.0, 1.0])\n",
    "plt.ylim([0.0, 1.05])\n",
    "plt.xlabel('False Positive Rate')\n",
    "plt.ylabel('True Positive Rate')\n",
    "plt.title('Roc_Auc curve')\n",
    "plt.legend()\n",
    "plt.show()"
   ]
  },
  {
   "cell_type": "markdown",
   "metadata": {
    "colab_type": "text",
    "id": "FgSUcvbOzNJN"
   },
   "source": [
    "#### Performing pertubation test (multicollinearity check) on BOW,"
   ]
  },
  {
   "cell_type": "code",
   "execution_count": 0,
   "metadata": {
    "colab": {
     "base_uri": "https://localhost:8080/",
     "height": 51
    },
    "colab_type": "code",
    "id": "jcWJ6JmgzMEF",
    "outputId": "6c921158-bda0-4e30-97f6-0d9f056d610f"
   },
   "outputs": [
    {
     "name": "stdout",
     "output_type": "stream",
     "text": [
      "0.08358527744488797\n"
     ]
    },
    {
     "data": {
      "text/plain": [
       "(44890, 40603)"
      ]
     },
     "execution_count": 47,
     "metadata": {
      "tags": []
     },
     "output_type": "execute_result"
    }
   ],
   "source": [
    "neighl2 = LogisticRegression(penalty='l2',C=0.1)\n",
    "modell2 = neighl2.fit(X_train_bow, y_train)\n",
    "w_before_epsilon=modell2.coef_\n",
    "epsilon=np.random.normal(loc=0,scale=0.1)\n",
    "print(epsilon)\n",
    "type(X_train_bow)\n",
    "X_train_bow.shape"
   ]
  },
  {
   "cell_type": "code",
   "execution_count": 0,
   "metadata": {
    "colab": {
     "base_uri": "https://localhost:8080/",
     "height": 51
    },
    "colab_type": "code",
    "id": "eYAH1oZafJUn",
    "outputId": "285ff54c-d8bf-4265-d943-891d3b5d6690"
   },
   "outputs": [
    {
     "data": {
      "text/plain": [
       "(array([    0,     0,     0, ..., 44889, 44889, 44889], dtype=int32),\n",
       " array([  401,  1593,  2407, ..., 39189, 39874, 40029], dtype=int32))"
      ]
     },
     "execution_count": 48,
     "metadata": {
      "tags": []
     },
     "output_type": "execute_result"
    }
   ],
   "source": [
    "#finding non-zero elements positon\n",
    "no_of_nonzeros=X_train_bow.nonzero()\n",
    "no_of_nonzeros"
   ]
  },
  {
   "cell_type": "code",
   "execution_count": 0,
   "metadata": {
    "colab": {},
    "colab_type": "code",
    "id": "OnXDN31xf6tO"
   },
   "outputs": [],
   "source": [
    "# Importing library to create a sparse matrix of epsilon\n",
    "from scipy.sparse import csr_matrix\n",
    "X1=csr_matrix(X_train_bow) #getting a new data set"
   ]
  },
  {
   "cell_type": "code",
   "execution_count": 0,
   "metadata": {
    "colab": {},
    "colab_type": "code",
    "id": "FrUQIFl1pfYQ"
   },
   "outputs": [],
   "source": [
    "X1.data=X1.data+epsilon"
   ]
  },
  {
   "cell_type": "markdown",
   "metadata": {
    "colab_type": "text",
    "id": "wjqig_LgxI9r"
   },
   "source": [
    "Now, We are applying our new data X1 on Logestic Regression."
   ]
  },
  {
   "cell_type": "code",
   "execution_count": 0,
   "metadata": {
    "colab": {
     "base_uri": "https://localhost:8080/",
     "height": 51
    },
    "colab_type": "code",
    "id": "TQnpVcK-0e4A",
    "outputId": "2372e9d0-1748-47ec-f058-e989b610076f"
   },
   "outputs": [
    {
     "name": "stdout",
     "output_type": "stream",
     "text": [
      "40603\n",
      "0.9143030303030303\n"
     ]
    }
   ],
   "source": [
    "modellr=LogisticRegression(penalty='l2',C=0.1)\n",
    "modellr=modellr.fit(X1,y_train)\n",
    "print(np.count_nonzero(modellr.coef_))\n",
    "print(modellr.score(X_test_bow,y_test))"
   ]
  },
  {
   "cell_type": "code",
   "execution_count": 0,
   "metadata": {
    "colab": {},
    "colab_type": "code",
    "id": "lbMQwVwr1QEc"
   },
   "outputs": [],
   "source": [
    "w_after_epsilon=modellr.coef_"
   ]
  },
  {
   "cell_type": "code",
   "execution_count": 0,
   "metadata": {
    "colab": {
     "base_uri": "https://localhost:8080/",
     "height": 51
    },
    "colab_type": "code",
    "id": "x27vKxK31P9a",
    "outputId": "37b93884-4d8c-4d44-d7b5-060d6eb0c75c"
   },
   "outputs": [
    {
     "name": "stdout",
     "output_type": "stream",
     "text": [
      "(40603, 1)\n",
      "(40603, 1)\n"
     ]
    }
   ],
   "source": [
    "weights1=np.transpose(w_before_epsilon)\n",
    "weights2=np.transpose(w_after_epsilon)\n",
    "print(weights1.shape)\n",
    "print(weights2.shape)\n",
    "weights1+=10**-6\n",
    "weights2+=10**-6"
   ]
  },
  {
   "cell_type": "code",
   "execution_count": 0,
   "metadata": {
    "colab": {
     "base_uri": "https://localhost:8080/",
     "height": 136
    },
    "colab_type": "code",
    "id": "6_MboiuX6Wy3",
    "outputId": "106451c8-c273-4436-fcfb-c5c059c94c80"
   },
   "outputs": [
    {
     "data": {
      "text/plain": [
       "array([[-2.5328044 ],\n",
       "       [-6.57056363],\n",
       "       [ 2.60498891],\n",
       "       ...,\n",
       "       [ 6.44499754],\n",
       "       [ 3.15264931],\n",
       "       [ 4.72558657]])"
      ]
     },
     "execution_count": 54,
     "metadata": {
      "tags": []
     },
     "output_type": "execute_result"
    }
   ],
   "source": [
    "percentage_change_vector = ((weights1-weights2)/np.abs(weights1))*100\n",
    "percentage_change_vector"
   ]
  },
  {
   "cell_type": "code",
   "execution_count": 0,
   "metadata": {
    "colab": {},
    "colab_type": "code",
    "id": "B0RGjs7apEwh"
   },
   "outputs": [],
   "source": [
    "per_c_v=sorted(percentage_change_vector)"
   ]
  },
  {
   "cell_type": "code",
   "execution_count": 0,
   "metadata": {
    "colab": {
     "base_uri": "https://localhost:8080/",
     "height": 204
    },
    "colab_type": "code",
    "id": "EcHAHsvsxP1p",
    "outputId": "1589a2d2-f953-44a7-b827-8c9703729c6f"
   },
   "outputs": [
    {
     "name": "stdout",
     "output_type": "stream",
     "text": [
      "[-6661.20355479]\n",
      "[-1195.04599895]\n",
      "[-906.66587668]\n",
      "[-707.0305545]\n",
      "[-707.0305545]\n",
      "[-582.96800025]\n",
      "[-490.79922893]\n",
      "[-379.39760361]\n",
      "[-338.21486531]\n",
      "[-293.68022599]\n",
      "[-289.35039048]\n"
     ]
    }
   ],
   "source": [
    "print(per_c_v[0])\n",
    "print(per_c_v[10])\n",
    "print(per_c_v[20])\n",
    "print(per_c_v[30])\n",
    "print(per_c_v[40])\n",
    "print(per_c_v[50])\n",
    "print(per_c_v[60])\n",
    "print(per_c_v[70])\n",
    "print(per_c_v[80])\n",
    "print(per_c_v[90])\n",
    "print(per_c_v[100])"
   ]
  },
  {
   "cell_type": "code",
   "execution_count": 0,
   "metadata": {
    "colab": {
     "base_uri": "https://localhost:8080/",
     "height": 221
    },
    "colab_type": "code",
    "id": "yvC1wqu8r7Go",
    "outputId": "9cdf1eb4-0246-4fd6-f6e0-e2f5a5419c7d"
   },
   "outputs": [
    {
     "name": "stdout",
     "output_type": "stream",
     "text": [
      "0th percentile of arr :  -6661.203554787885\n",
      "10th percentile of arr :  -9.612588133307309\n",
      "20th percentile of arr :  -5.969603625694711\n",
      "30th percentile of arr :  -3.8742592468556736\n",
      "40th percentile of arr :  -2.0749811643230465\n",
      "50th percentile of arr :  -0.1948884206983648\n",
      "60th percentile of arr :  1.8383589167885366\n",
      "70th percentile of arr :  3.9219680244217514\n",
      "80th percentile of arr :  6.368198143490772\n",
      "90th percentile of arr :  10.364093927604774\n",
      "99th percentile of arr :  30.870939424933816\n",
      "100th percentile of arr :  121547.4178214593\n"
     ]
    }
   ],
   "source": [
    "print(\"0th percentile of arr : \",np.percentile(per_c_v, 0))\n",
    "print(\"10th percentile of arr : \",np.percentile(per_c_v, 10))\n",
    "print(\"20th percentile of arr : \",np.percentile(per_c_v, 20))\n",
    "print(\"30th percentile of arr : \",np.percentile(per_c_v, 30))\n",
    "print(\"40th percentile of arr : \",np.percentile(per_c_v, 40))\n",
    "print(\"50th percentile of arr : \",np.percentile(per_c_v, 50))\n",
    "print(\"60th percentile of arr : \",np.percentile(per_c_v, 60))\n",
    "print(\"70th percentile of arr : \",np.percentile(per_c_v, 70))\n",
    "print(\"80th percentile of arr : \",np.percentile(per_c_v, 80))\n",
    "print(\"90th percentile of arr : \",np.percentile(per_c_v, 90))\n",
    "print(\"99th percentile of arr : \",np.percentile(per_c_v, 99))\n",
    "print(\"100th percentile of arr : \",np.percentile(per_c_v, 100))"
   ]
  },
  {
   "cell_type": "code",
   "execution_count": 0,
   "metadata": {
    "colab": {
     "base_uri": "https://localhost:8080/",
     "height": 34
    },
    "colab_type": "code",
    "id": "zOmiKJ_0tKFy",
    "outputId": "e6b4bdd3-f380-4e30-a11e-27842f9bb82d"
   },
   "outputs": [
    {
     "name": "stdout",
     "output_type": "stream",
     "text": [
      "percentile of arr 99.1 :  32.32334034622081 , 99.2 : 34.87245580805438 , 99.3 : 38.770962369427494 , 99.4 : 44.86858324318844\n"
     ]
    }
   ],
   "source": [
    "print(\"percentile of arr 99.1 : \",np.percentile(per_c_v, 99.1),', 99.2 :',np.percentile(per_c_v, 99.2),', 99.3 :',np.percentile(per_c_v, 99.3),', 99.4 :',np.percentile(per_c_v, 99.4))"
   ]
  },
  {
   "cell_type": "code",
   "execution_count": 0,
   "metadata": {
    "colab": {
     "base_uri": "https://localhost:8080/",
     "height": 54
    },
    "colab_type": "code",
    "id": "CDN-Q_VUuJnp",
    "outputId": "63a77002-ed10-4420-f884-4cefa87cdf9f"
   },
   "outputs": [
    {
     "name": "stdout",
     "output_type": "stream",
     "text": [
      "99.5 : 53.63831099175968 , 99.6 : 69.48421310716685 , 99.7 : 97.59349846899471 , 99.8 : 150.5923580336774 ,99.9 : 275.4495307476896 , 100th percentile : 121547.4178214593\n"
     ]
    }
   ],
   "source": [
    "print('99.5 :',np.percentile(per_c_v, 99.5), ', 99.6 :',np.percentile(per_c_v, 99.6),', 99.7 :',np.percentile(per_c_v, 99.7),', 99.8 :',np.percentile(per_c_v, 99.8),',99.9 :',np.percentile(per_c_v, 99.9),', 100th percentile :',np.percentile(per_c_v, 100))"
   ]
  },
  {
   "cell_type": "code",
   "execution_count": 0,
   "metadata": {
    "colab": {},
    "colab_type": "code",
    "id": "LF_5WZq5cOZI"
   },
   "outputs": [],
   "source": [
    "Vec=(np.percentile(per_c_v, 0)+np.percentile(per_c_v, 10)+np.percentile(per_c_v, 20)+np.percentile(per_c_v, 30)+np.percentile(per_c_v, 40)+np.percentile(per_c_v, 50)+np.percentile(per_c_v, 60)+np.percentile(per_c_v,70)+np.percentile(per_c_v, 80)+np.percentile(per_c_v, 90)+np.percentile(per_c_v, 100))"
   ]
  },
  {
   "cell_type": "code",
   "execution_count": 0,
   "metadata": {
    "colab": {
     "base_uri": "https://localhost:8080/",
     "height": 34
    },
    "colab_type": "code",
    "id": "6JDI0d7LkDL8",
    "outputId": "509cce5d-3976-4731-a251-efd49e0dfd24"
   },
   "outputs": [
    {
     "data": {
      "text/plain": [
       "122345.01107457548"
      ]
     },
     "execution_count": 61,
     "metadata": {
      "tags": []
     },
     "output_type": "execute_result"
    }
   ],
   "source": [
    "Vec_99=(np.percentile(per_c_v, 99.1)+np.percentile(per_c_v, 99.2)+np.percentile(per_c_v, 99.3)+np.percentile(per_c_v, 99.4)+np.percentile(per_c_v, 99.5)+np.percentile(per_c_v, 99.6)+np.percentile(per_c_v,99.7)+np.percentile(per_c_v, 99.8)+np.percentile(per_c_v, 99.9)+np.percentile(per_c_v, 100))\n",
    "Vec_99"
   ]
  },
  {
   "cell_type": "markdown",
   "metadata": {
    "colab_type": "text",
    "id": "T6AXeQolxI-L"
   },
   "source": [
    "#### we can combine arrays of w1,w2 and percentage_change_vector\n"
   ]
  },
  {
   "cell_type": "code",
   "execution_count": 0,
   "metadata": {
    "colab": {},
    "colab_type": "code",
    "id": "x7Q8uWAvxI-N"
   },
   "outputs": [],
   "source": [
    "w1=np.abs(weights1)\n",
    "w2=np.abs(weights2)"
   ]
  },
  {
   "cell_type": "code",
   "execution_count": 0,
   "metadata": {
    "colab": {
     "base_uri": "https://localhost:8080/",
     "height": 34
    },
    "colab_type": "code",
    "id": "h9HMCXanxI-Z",
    "outputId": "198dec21-a928-4ac5-9a15-cdb1841e9ebe"
   },
   "outputs": [
    {
     "data": {
      "text/plain": [
       "(40603, 1)"
      ]
     },
     "execution_count": 63,
     "metadata": {
      "tags": []
     },
     "output_type": "execute_result"
    }
   ],
   "source": [
    "percentage_change_vector.shape"
   ]
  },
  {
   "cell_type": "code",
   "execution_count": 0,
   "metadata": {
    "colab": {
     "base_uri": "https://localhost:8080/",
     "height": 34
    },
    "colab_type": "code",
    "id": "uNRydft8xI-j",
    "outputId": "921d5e83-5d7f-4002-bf22-0eef9bdf2649"
   },
   "outputs": [
    {
     "data": {
      "text/plain": [
       "(40603, 3)"
      ]
     },
     "execution_count": 64,
     "metadata": {
      "tags": []
     },
     "output_type": "execute_result"
    }
   ],
   "source": [
    "orginal_weights=np.concatenate((w1,w2,percentage_change_vector),axis=1)\n",
    "orginal_weights.shape    "
   ]
  },
  {
   "cell_type": "code",
   "execution_count": 0,
   "metadata": {
    "colab": {
     "base_uri": "https://localhost:8080/",
     "height": 136
    },
    "colab_type": "code",
    "id": "1D_Le0c5xI-o",
    "outputId": "b50c31d6-82fa-4bc3-bf10-a3e25f51b1d7"
   },
   "outputs": [
    {
     "data": {
      "text/plain": [
       "array([[ 2.55713417e-02,  2.62190138e-02, -2.53280440e+00],\n",
       "       [ 4.29295988e-02,  4.57503154e-02, -6.57056363e+00],\n",
       "       [ 1.11287899e-03,  1.08388861e-03,  2.60498891e+00],\n",
       "       ...,\n",
       "       [ 2.43508181e-02,  2.59202278e-02,  6.44499754e+00],\n",
       "       [ 9.85564936e-03,  9.54493530e-03,  3.15264931e+00],\n",
       "       [ 1.35041711e-03,  1.28660198e-03,  4.72558657e+00]])"
      ]
     },
     "execution_count": 65,
     "metadata": {
      "tags": []
     },
     "output_type": "execute_result"
    }
   ],
   "source": [
    "orginal_weights"
   ]
  },
  {
   "cell_type": "code",
   "execution_count": 0,
   "metadata": {
    "colab": {
     "base_uri": "https://localhost:8080/",
     "height": 34
    },
    "colab_type": "code",
    "id": "AFNFc2rExI-t",
    "outputId": "a5368289-f875-4a18-c61f-31098f5f6aca"
   },
   "outputs": [
    {
     "data": {
      "text/plain": [
       "(40603,)"
      ]
     },
     "execution_count": 66,
     "metadata": {
      "tags": []
     },
     "output_type": "execute_result"
    }
   ],
   "source": [
    "bow_for_features=CountVectorizer(binary=True,max_features=40751,dtype='float').fit(X_train)\n",
    "#taken max_features=40751 for satisfying shape\n",
    "features=np.asarray(bow_for_features.get_feature_names())\n",
    "type(features)\n",
    "features.shape"
   ]
  },
  {
   "cell_type": "code",
   "execution_count": 0,
   "metadata": {
    "colab": {
     "base_uri": "https://localhost:8080/",
     "height": 359
    },
    "colab_type": "code",
    "id": "bhb4I_e8xI-z",
    "outputId": "13bdf774-5e65-4d85-cbc1-f3d35a287a90"
   },
   "outputs": [
    {
     "data": {
      "text/html": [
       "<div>\n",
       "<style scoped>\n",
       "    .dataframe tbody tr th:only-of-type {\n",
       "        vertical-align: middle;\n",
       "    }\n",
       "\n",
       "    .dataframe tbody tr th {\n",
       "        vertical-align: top;\n",
       "    }\n",
       "\n",
       "    .dataframe thead th {\n",
       "        text-align: right;\n",
       "    }\n",
       "</style>\n",
       "<table border=\"1\" class=\"dataframe\">\n",
       "  <thead>\n",
       "    <tr style=\"text-align: right;\">\n",
       "      <th></th>\n",
       "      <th>weights_1</th>\n",
       "      <th>weights_2</th>\n",
       "      <th>weights_3</th>\n",
       "    </tr>\n",
       "  </thead>\n",
       "  <tbody>\n",
       "    <tr>\n",
       "      <th>aa</th>\n",
       "      <td>0.025571</td>\n",
       "      <td>0.026219</td>\n",
       "      <td>-2.532804</td>\n",
       "    </tr>\n",
       "    <tr>\n",
       "      <th>aaa</th>\n",
       "      <td>0.042930</td>\n",
       "      <td>0.045750</td>\n",
       "      <td>-6.570564</td>\n",
       "    </tr>\n",
       "    <tr>\n",
       "      <th>aaaa</th>\n",
       "      <td>0.001113</td>\n",
       "      <td>0.001084</td>\n",
       "      <td>2.604989</td>\n",
       "    </tr>\n",
       "    <tr>\n",
       "      <th>aaaaaaaaaaaaaaa</th>\n",
       "      <td>0.000904</td>\n",
       "      <td>0.000935</td>\n",
       "      <td>-3.347933</td>\n",
       "    </tr>\n",
       "    <tr>\n",
       "      <th>aaaaaaarrrrrggghhh</th>\n",
       "      <td>0.046190</td>\n",
       "      <td>0.046243</td>\n",
       "      <td>0.113547</td>\n",
       "    </tr>\n",
       "    <tr>\n",
       "      <th>aaaahhhhhh</th>\n",
       "      <td>0.003811</td>\n",
       "      <td>0.003662</td>\n",
       "      <td>3.912765</td>\n",
       "    </tr>\n",
       "    <tr>\n",
       "      <th>aadp</th>\n",
       "      <td>0.000054</td>\n",
       "      <td>0.000044</td>\n",
       "      <td>18.002161</td>\n",
       "    </tr>\n",
       "    <tr>\n",
       "      <th>aafco</th>\n",
       "      <td>0.002540</td>\n",
       "      <td>0.001681</td>\n",
       "      <td>33.830497</td>\n",
       "    </tr>\n",
       "    <tr>\n",
       "      <th>aagh</th>\n",
       "      <td>0.020623</td>\n",
       "      <td>0.022113</td>\n",
       "      <td>-7.225639</td>\n",
       "    </tr>\n",
       "    <tr>\n",
       "      <th>aahs</th>\n",
       "      <td>0.000007</td>\n",
       "      <td>0.000005</td>\n",
       "      <td>28.368822</td>\n",
       "    </tr>\n",
       "  </tbody>\n",
       "</table>\n",
       "</div>"
      ],
      "text/plain": [
       "                    weights_1  weights_2  weights_3\n",
       "aa                   0.025571   0.026219  -2.532804\n",
       "aaa                  0.042930   0.045750  -6.570564\n",
       "aaaa                 0.001113   0.001084   2.604989\n",
       "aaaaaaaaaaaaaaa      0.000904   0.000935  -3.347933\n",
       "aaaaaaarrrrrggghhh   0.046190   0.046243   0.113547\n",
       "aaaahhhhhh           0.003811   0.003662   3.912765\n",
       "aadp                 0.000054   0.000044  18.002161\n",
       "aafco                0.002540   0.001681  33.830497\n",
       "aagh                 0.020623   0.022113  -7.225639\n",
       "aahs                 0.000007   0.000005  28.368822"
      ]
     },
     "execution_count": 69,
     "metadata": {
      "tags": []
     },
     "output_type": "execute_result"
    }
   ],
   "source": [
    "feat=sorted(features)\n",
    "Data_frame=pd.DataFrame(data=orginal_weights,index=feat,columns=['weights_1','weights_2','weights_3'])\n",
    "Data_frame.head(10)"
   ]
  },
  {
   "cell_type": "markdown",
   "metadata": {
    "colab_type": "text",
    "id": "dFq-SOFv50L9"
   },
   "source": [
    "### According to percentile calculation printing the feature names whose % change  is more than 30"
   ]
  },
  {
   "cell_type": "code",
   "execution_count": 0,
   "metadata": {
    "colab": {
     "base_uri": "https://localhost:8080/",
     "height": 1105
    },
    "colab_type": "code",
    "id": "icyiKHLJxI--",
    "outputId": "a45c4fba-7e53-4527-c0be-5d4e5df64252"
   },
   "outputs": [
    {
     "name": "stdout",
     "output_type": "stream",
     "text": [
      "                weights_1  weights_2    weights_3\n",
      "aafco            0.002540   0.001681    33.830497\n",
      "abuse            0.005573   0.007539    35.279750\n",
      "accidents        0.002726   0.000915    66.423325\n",
      "adding           0.000294   0.005944  1918.342726\n",
      "addressing       0.002075   0.004235   104.113499\n",
      "adjust           0.003360   0.011996   257.050877\n",
      "administration   0.001999   0.002706    35.392990\n",
      "aforementioned   0.008485   0.015126    78.271246\n",
      "aggravating      0.005007   0.007026    40.338248\n",
      "album            0.000010   0.000006    32.323340\n",
      "allocations      0.000010   0.000006    32.323340\n",
      "allows           0.013621   0.005581    59.027028\n",
      "americanized     0.001658   0.002322    40.033774\n",
      "amply            0.007120   0.010721    50.572822\n",
      "amused           0.005099   0.006681    31.022683\n",
      "arabic           0.002644   0.001547    41.515841\n",
      "areas            0.017168   0.022857    33.140903\n",
      "arranging        0.000023   0.000205  1000.685575\n",
      "attractively     0.009560   0.013256    38.654842\n",
      "aunts            0.001547   0.004317   178.955014\n",
      "authority        0.000490   0.000672    37.008298\n",
      "avg              0.000454   0.000348   176.498456\n",
      "badge            0.000010   0.000006    32.323340\n",
      "bag              0.002265   0.001510    33.323586\n",
      "bagels           0.001318   0.007037   433.950624\n",
      "bakes            0.001833   0.003012    64.357415\n",
      "bang             0.001267   0.004574   260.931516\n",
      "bb               0.015981   0.021232    32.860331\n",
      "beneful          0.019107   0.024866    30.141084\n",
      "bergamot         0.007574   0.010441    37.844326\n",
      "...                   ...        ...          ...\n",
      "trite            0.000010   0.000006    32.323340\n",
      "truffleall       0.000012   0.000008    30.967301\n",
      "tsang            0.019775   0.026091    31.940490\n",
      "turmeric         0.000673   0.001022   251.761861\n",
      "twittering       0.000037   0.000025    34.069089\n",
      "type             0.009316   0.014576    56.460089\n",
      "unclog           0.001175   0.000919   178.242711\n",
      "unmanageable     0.000467   0.001406   201.149390\n",
      "unrinsed         0.000012   0.000008    34.009583\n",
      "unwanted         0.001353   0.002860   111.368379\n",
      "user             0.003717   0.001110    70.128622\n",
      "utis             0.009301   0.016137    73.496509\n",
      "via              0.001592   0.004141   160.034119\n",
      "viola            0.001942   0.003356    72.794800\n",
      "visited          0.006705   0.002439    63.622647\n",
      "vitally          0.000019   0.000050   167.729377\n",
      "waft             0.005910   0.008704    47.280701\n",
      "walls            0.002175   0.000660   130.347128\n",
      "watchers         0.001231   0.008528   592.940912\n",
      "whipp            0.000010   0.000006    32.323340\n",
      "winter           0.022226   0.030749    38.344060\n",
      "wms              0.000012   0.000008    30.291676\n",
      "wrapping         0.003009   0.006369   111.650864\n",
      "ww               0.001076   0.003996   271.471407\n",
      "yo               0.004200   0.000403    90.415766\n",
      "yorkie           0.024009   0.032538    35.522857\n",
      "youth            0.001029   0.000998   196.950246\n",
      "zeus             0.000010   0.000006    32.323340\n",
      "zombies          0.000010   0.000006    32.323340\n",
      "zoo              0.003623   0.010927   201.590552\n",
      "\n",
      "[431 rows x 3 columns]\n"
     ]
    }
   ],
   "source": [
    "print(Data_frame.loc[Data_frame['weights_3'] > 30])"
   ]
  },
  {
   "cell_type": "markdown",
   "metadata": {
    "colab_type": "text",
    "id": "kxDdjtPOxI_C"
   },
   "source": [
    "### Selecting Top 20 Features"
   ]
  },
  {
   "cell_type": "code",
   "execution_count": 0,
   "metadata": {
    "colab": {},
    "colab_type": "code",
    "id": "FxQWwfL6xI_E"
   },
   "outputs": [],
   "source": [
    "features_frame=pd.DataFrame(data=weights1,index=features,columns=['w1'])\n",
    "features_frame=features_frame.sort_values(by=['w1'])\n",
    "features_pos=(features_frame.loc[features_frame['w1'] > 1])\n",
    "features_neg=(features_frame.loc[features_frame['w1'] < -1])"
   ]
  },
  {
   "cell_type": "code",
   "execution_count": 0,
   "metadata": {
    "colab": {
     "base_uri": "https://localhost:8080/",
     "height": 391
    },
    "colab_type": "code",
    "id": "GHPk_y6WxI_H",
    "outputId": "d83bea07-f087-4765-f31a-56d9cec2526c"
   },
   "outputs": [
    {
     "name": "stdout",
     "output_type": "stream",
     "text": [
      "                 w1\n",
      "amazing    1.001779\n",
      "wonderful  1.032807\n",
      "awesome    1.045839\n",
      "hooked     1.093434\n",
      "great      1.097335\n",
      "highly     1.139536\n",
      "best       1.228586\n",
      "loves      1.240767\n",
      "delicious  1.304607\n",
      "perfect    1.339252\n",
      "                      w1\n",
      "worst          -1.686647\n",
      "disappointing  -1.499229\n",
      "terrible       -1.470052\n",
      "awful          -1.461287\n",
      "horrible       -1.438975\n",
      "disappointed   -1.320318\n",
      "bland          -1.176181\n",
      "rip            -1.109347\n",
      "disappointment -1.080814\n",
      "stale          -1.011759\n"
     ]
    }
   ],
   "source": [
    "print(features_pos[0:10]) # 10 positive features\n",
    "print(features_neg[0:10]) # 10 negative features"
   ]
  },
  {
   "cell_type": "markdown",
   "metadata": {
    "colab_type": "text",
    "id": "uV8ujQU3xI_M"
   },
   "source": [
    "***Note :-\n",
    "    *** There are total 20 features, in that with positive number is can taken as positive feature values and with negative number is can taken as negative feature value"
   ]
  },
  {
   "cell_type": "code",
   "execution_count": 0,
   "metadata": {
    "colab": {
     "base_uri": "https://localhost:8080/",
     "height": 34
    },
    "colab_type": "code",
    "id": "p8hTPNj2xI_N",
    "outputId": "487e1670-e776-4a5a-a7d2-c306eaa4705f"
   },
   "outputs": [
    {
     "name": "stdout",
     "output_type": "stream",
     "text": [
      "************************************************************************************************************************\n"
     ]
    }
   ],
   "source": [
    "print(\"**\"*60)"
   ]
  },
  {
   "cell_type": "markdown",
   "metadata": {
    "colab_type": "text",
    "id": "MxNyEFQtgj7u"
   },
   "source": [
    "# TF-IDF"
   ]
  },
  {
   "cell_type": "code",
   "execution_count": 0,
   "metadata": {
    "colab": {
     "base_uri": "https://localhost:8080/",
     "height": 51
    },
    "colab_type": "code",
    "id": "3KZMRG44xI_U",
    "outputId": "32402835-5c1e-4bc4-c390-4e3fcff51562"
   },
   "outputs": [
    {
     "data": {
      "text/plain": [
       "<44890x500 sparse matrix of type '<class 'numpy.float64'>'\n",
       "\twith 857858 stored elements in Compressed Sparse Row format>"
      ]
     },
     "execution_count": 31,
     "metadata": {
      "tags": []
     },
     "output_type": "execute_result"
    }
   ],
   "source": [
    "from sklearn.feature_extraction.text import TfidfTransformer\n",
    "from sklearn.feature_extraction.text import TfidfVectorizer\n",
    "#TF-IDF\n",
    "tf_idf_vect = TfidfVectorizer(min_df=10,max_features=500, ngram_range=(1,2)).fit(X_train)\n",
    "X_train_tfidf = tf_idf_vect.transform(X_train)\n",
    "X_train_tfidf"
   ]
  },
  {
   "cell_type": "markdown",
   "metadata": {
    "colab_type": "text",
    "id": "a1jVlJAzxI_Z"
   },
   "source": [
    "***point*** :-For Bow i didn't taken any max_features while procesing, but in tfidf i have taken max_features=500., to check only 500 features., to do process fast"
   ]
  },
  {
   "cell_type": "code",
   "execution_count": 0,
   "metadata": {
    "colab": {
     "base_uri": "https://localhost:8080/",
     "height": 85
    },
    "colab_type": "code",
    "id": "otU9jTMZgj72",
    "outputId": "7cf4c1fd-2213-46a6-d2ec-19c5d5389e0d"
   },
   "outputs": [
    {
     "name": "stdout",
     "output_type": "stream",
     "text": [
      "After vectorizations\n",
      "(44890, 500) (44890,)\n",
      "(22110, 500) (22110,)\n",
      "(33000, 500) (33000,)\n"
     ]
    }
   ],
   "source": [
    "X_test_tfidf = tf_idf_vect.transform(X_test)\n",
    "X_cv_tfidf = tf_idf_vect.transform(X_cv)\n",
    "print(\"After vectorizations\")\n",
    "print(X_train_tfidf.shape, y_train.shape)\n",
    "print(X_cv_tfidf.shape, y_cv.shape)\n",
    "print(X_test_tfidf.shape, y_test.shape)"
   ]
  },
  {
   "cell_type": "markdown",
   "metadata": {
    "colab_type": "text",
    "id": "y8pPuCkyxI_i"
   },
   "source": [
    "### Applying Log reg Tfidf for L1 regularization"
   ]
  },
  {
   "cell_type": "code",
   "execution_count": 0,
   "metadata": {
    "colab": {
     "base_uri": "https://localhost:8080/",
     "height": 294
    },
    "colab_type": "code",
    "id": "vuRBk4HZxI_k",
    "outputId": "9635881d-373d-456e-9019-065e5217d5cc"
   },
   "outputs": [
    {
     "data": {
      "image/png": "[encoded data removed]",
      "text/plain": [
       "<Figure size 432x288 with 1 Axes>"
      ]
     },
     "metadata": {
      "tags": []
     },
     "output_type": "display_data"
    }
   ],
   "source": [
    "C = [0.00001,0.00001,0.0001,0.001,0.01,0.1,1,10,100,1000,10000] #declared both l1 and l2, but checking only for L1\n",
    "from pylab import scatter\n",
    "import pylab\n",
    "import math\n",
    "penalty=['l1','l2']\n",
    "train_auc_tfidf_l1 = []\n",
    "cv_auc_tfidf_l1 = []\n",
    "for i in C:\n",
    "    neigh_tfidf_l1 = LogisticRegression(penalty='l1',C=i)\n",
    "    model_tfidf_l1 = neigh_tfidf_l1.fit(X_train_tfidf, y_train)\n",
    "    y_train_pred_l1 =  model_tfidf_l1.predict_proba(X_train_tfidf)[:,1]\n",
    "    y_cv_pred_l1 =  model_tfidf_l1.predict_proba(X_cv_tfidf)[:,1]\n",
    "    train_auc_tfidf_l1.append(roc_auc_score(y_train,y_train_pred_l1))\n",
    "    cv_auc_tfidf_l1.append(roc_auc_score(y_cv, y_cv_pred_l1))\n",
    "    \n",
    "#plt.plot(C,train_auc_tfidf_l1,label='Train AUC')\n",
    "#plt.plot(C, cv_auc_tfidf_l1, label='CV AUC')\n",
    "plt.plot(np.log(C), train_auc_tfidf_l1, label='Train AUC')\n",
    "plt.plot(np.log(C), cv_auc_tfidf_l1, label='CV AUC')\n",
    "plt.legend()\n",
    "plt.xlabel(\"K: hyperparameter\")\n",
    "plt.ylabel(\"AUC\")\n",
    "plt.title(\"ERROR PLOTS\")\n",
    "plt.show()"
   ]
  },
  {
   "cell_type": "code",
   "execution_count": 0,
   "metadata": {
    "colab": {
     "base_uri": "https://localhost:8080/",
     "height": 102
    },
    "colab_type": "code",
    "id": "dC9ad81IxI_o",
    "outputId": "0ff5d447-4348-4cbd-b8fd-fa74ba1c1e92"
   },
   "outputs": [
    {
     "name": "stdout",
     "output_type": "stream",
     "text": [
      "\n",
      "The optimal number of train value in C is 10.000000.\n",
      "--------------------------------------------------\n",
      "\n",
      "The optimal number of cv value in C is 1.000000.\n"
     ]
    }
   ],
   "source": [
    "optimal_alpha_tfidf_train = C[train_auc_tfidf_l1.index(max(train_auc_tfidf_l1))]\n",
    "print('\\nThe optimal number of train value in C is %f.' % optimal_alpha_tfidf_train)\n",
    "print('-'*50)\n",
    "optimal_alpha_tfidf_cv = C[cv_auc_tfidf_l1.index(max(cv_auc_tfidf_l1))]\n",
    "print('\\nThe optimal number of cv value in C is %f.' % optimal_alpha_tfidf_cv)"
   ]
  },
  {
   "cell_type": "code",
   "execution_count": 0,
   "metadata": {
    "colab": {
     "base_uri": "https://localhost:8080/",
     "height": 85
    },
    "colab_type": "code",
    "id": "e0T1Q-n3xI_y",
    "outputId": "6aeade6a-cc2e-4181-e8b8-13901c0d2587"
   },
   "outputs": [
    {
     "data": {
      "text/plain": [
       "LogisticRegression(C=1, class_weight=None, dual=False, fit_intercept=True,\n",
       "          intercept_scaling=1, max_iter=100, multi_class='warn',\n",
       "          n_jobs=None, penalty='l1', random_state=None, solver='warn',\n",
       "          tol=0.0001, verbose=0, warm_start=False)"
      ]
     },
     "execution_count": 35,
     "metadata": {
      "tags": []
     },
     "output_type": "execute_result"
    }
   ],
   "source": [
    "# instantiate learning model alpha = optimal_alpha\n",
    "nb_optimal_tfidf = LogisticRegression(penalty='l1',C = optimal_alpha_tfidf_cv)\n",
    "# fitting the model\n",
    "nb_optimal_tfidf.fit(X_train_tfidf, y_train)"
   ]
  },
  {
   "cell_type": "code",
   "execution_count": 0,
   "metadata": {
    "colab": {
     "base_uri": "https://localhost:8080/",
     "height": 51
    },
    "colab_type": "code",
    "id": "ZvB_bLOaxI__",
    "outputId": "96f8a2d9-b620-463f-d84c-cfcb208dd879"
   },
   "outputs": [
    {
     "name": "stdout",
     "output_type": "stream",
     "text": [
      "\n",
      "The Auc socre for value= 1.000000 is 0.731133%\n"
     ]
    }
   ],
   "source": [
    "pred_tfidf=nb_optimal_tfidf.predict(X_test_tfidf)\n",
    "pred_tfidf_train=nb_optimal_tfidf.predict(X_train_tfidf)\n",
    "# evaluate accuracy on test data\n",
    "from sklearn.metrics import roc_auc_score\n",
    "auc_tfidf = roc_auc_score(y_test, pred_tfidf)\n",
    "print('\\nThe Auc socre for value= %f is %f%%' % (optimal_alpha_tfidf_cv, auc_tfidf))"
   ]
  },
  {
   "cell_type": "code",
   "execution_count": 0,
   "metadata": {
    "colab": {
     "base_uri": "https://localhost:8080/",
     "height": 690
    },
    "colab_type": "code",
    "id": "n_AiAsHdxJAF",
    "outputId": "8e0db36b-a699-43e1-c055-88b97c8c2dfc"
   },
   "outputs": [
    {
     "name": "stdout",
     "output_type": "stream",
     "text": [
      "[[ 2615  2649]\n",
      " [  957 26779]]\n",
      "   \n"
     ]
    },
    {
     "data": {
      "image/png": "[encoded data removed]",
      "text/plain": [
       "<Figure size 432x288 with 2 Axes>"
      ]
     },
     "metadata": {
      "tags": []
     },
     "output_type": "display_data"
    },
    {
     "name": "stdout",
     "output_type": "stream",
     "text": [
      "*************************************************************************************************\n",
      "[[ 3647  3436]\n",
      " [ 1224 36583]]\n",
      "   \n"
     ]
    },
    {
     "data": {
      "image/png": "[encoded data removed]",
      "text/plain": [
       "<Figure size 432x288 with 2 Axes>"
      ]
     },
     "metadata": {
      "tags": []
     },
     "output_type": "display_data"
    }
   ],
   "source": [
    "# Confusion Matrix\n",
    "from sklearn.metrics import confusion_matrix\n",
    "cm_tfidf = confusion_matrix(y_test, pred_tfidf)\n",
    "print(cm_tfidf)\n",
    "print('   ')\n",
    "# plotting confusion matrix to describe the performance of classifier.\n",
    "import seaborn as sns\n",
    "class_label = [\"negative\", \"positive\"]\n",
    "df_cm_tfidf = pd.DataFrame(cm_tfidf, index = class_label, columns = class_label)\n",
    "sns.heatmap(df_cm_tfidf, annot = True, fmt = \"d\")\n",
    "plt.title(\"Confusion Matrix\")\n",
    "plt.xlabel(\"Predicted Label\")\n",
    "plt.ylabel(\"True Label\")\n",
    "plt.show()\n",
    "\n",
    "print('*************************************************************************************************')\n",
    "\n",
    "cm_tfidf1 = confusion_matrix(y_train, pred_tfidf_train)\n",
    "print(cm_tfidf1)\n",
    "print('   ')\n",
    "# plotting confusion matrix to describe the performance of classifier.\n",
    "import seaborn as sns\n",
    "class_label1 = [\"negative\", \"positive\"]\n",
    "df_cm1_tfidf = pd.DataFrame(cm_tfidf1, index = class_label1, columns = class_label1)\n",
    "sns.heatmap(df_cm1_tfidf, annot = True, fmt = \"d\")\n",
    "plt.title(\"Confusion Matrix\")\n",
    "plt.xlabel(\"Predicted Label\")\n",
    "plt.ylabel(\"True Label\")\n",
    "plt.show()"
   ]
  },
  {
   "cell_type": "code",
   "execution_count": 0,
   "metadata": {
    "colab": {
     "base_uri": "https://localhost:8080/",
     "height": 294
    },
    "colab_type": "code",
    "id": "1VGoJL_3xJAL",
    "outputId": "a4599606-3fcd-48ab-c6f8-c6f9df4593d1"
   },
   "outputs": [
    {
     "data": {
      "image/png": "[encoded data removed]",
      "text/plain": [
       "<Figure size 432x288 with 1 Axes>"
      ]
     },
     "metadata": {
      "tags": []
     },
     "output_type": "display_data"
    }
   ],
   "source": [
    "### Computing ROC curve and ROC area for predictions on l1 validation set\n",
    "from sklearn import metrics\n",
    "y_test_tfidf_predict =  nb_optimal_tfidf.predict_proba(X_test_tfidf)[:,1]\n",
    "y_train_tfidf_predict =  nb_optimal_tfidf.predict_proba(X_train_tfidf)[:,1]\n",
    "fpr_tfidf,tpr_tfidf,_ =  metrics.roc_curve(y_train,y_train_tfidf_predict) \n",
    "fpr_tfidf_l1,tpr_tfidf_l1, _ = metrics.roc_curve(y_test,y_test_tfidf_predict)\n",
    "\n",
    "roc_auc_tfidf = auc(fpr_tfidf, tpr_tfidf) \n",
    "roc_auc1_tfidf = auc(fpr_tfidf_l1,tpr_tfidf_l1) \n",
    "### Plot\n",
    "plt.figure()\n",
    "lw = 3\n",
    "plt.plot(fpr_tfidf_l1, tpr_tfidf_l1, color='darkorange',\n",
    "         lw=lw, label='ROC curve_test (area = %0.2f)' % roc_auc1_tfidf)\n",
    "plt.plot( fpr_tfidf,tpr_tfidf, color='navy', lw=lw, linestyle='--',label='ROC curve_train (area = %0.2f)' % roc_auc_tfidf)\n",
    "plt.xlim([0.0, 1.0])\n",
    "plt.ylim([0.0, 1.05])\n",
    "plt.xlabel('False Positive Rate')\n",
    "plt.ylabel('True Positive Rate')\n",
    "plt.title('Roc_Auc curve')\n",
    "plt.legend()\n",
    "plt.show()"
   ]
  },
  {
   "cell_type": "markdown",
   "metadata": {
    "colab_type": "text",
    "id": "2A8e_5UwxJAP"
   },
   "source": [
    "### Applying Logistic regression on L2 "
   ]
  },
  {
   "cell_type": "code",
   "execution_count": 0,
   "metadata": {
    "colab": {
     "base_uri": "https://localhost:8080/",
     "height": 294
    },
    "colab_type": "code",
    "id": "spuY2W3VxJAR",
    "outputId": "d1a73939-78da-4160-8646-bdbfe31885f9"
   },
   "outputs": [
    {
     "data": {
      "image/png": "[encoded data removed]",
      "text/plain": [
       "<Figure size 432x288 with 1 Axes>"
      ]
     },
     "metadata": {
      "tags": []
     },
     "output_type": "display_data"
    }
   ],
   "source": [
    "#C = [0.00001,0.00001,0.0001,0.001,0.01,0.1,1,10,100,1000,10000] \n",
    "#penalty=['l1','l2']  declared both l1 and l2, but checking only for L1\n",
    "train_auc_tfidf_l2 = []\n",
    "cv_auc_tfidf_l2 = []\n",
    "for j in C: # C delared in l1\n",
    "    neigh_tfidf_l2 = LogisticRegression(penalty='l2',C=j)\n",
    "    model_tfidf_l2 = neigh_tfidf_l2.fit(X_train_tfidf, y_train)\n",
    "    y_train_pred_l2 =  model_tfidf_l2.predict_proba(X_train_tfidf)[:,1]\n",
    "    y_cv_pred_l2 =  model_tfidf_l2.predict_proba(X_cv_tfidf)[:,1]\n",
    "    train_auc_tfidf_l2.append(roc_auc_score(y_train,y_train_pred_l2))\n",
    "    cv_auc_tfidf_l2.append(roc_auc_score(y_cv, y_cv_pred_l2))\n",
    "    \n",
    "#plt.plot(C,train_auc_tfidf_l1,label='Train AUC')\n",
    "#plt.plot(C,cv_auc_tfidf_l1, label='CV AUC')\n",
    "plt.plot(np.log(C), train_auc_tfidf_l2, label='Train AUC')\n",
    "plt.plot(np.log(C), cv_auc_tfidf_l2, label='CV AUC')\n",
    "plt.legend()\n",
    "plt.xlabel(\"K: hyperparameter\")\n",
    "plt.ylabel(\"AUC\")\n",
    "plt.title(\"ERROR PLOTS\")\n",
    "plt.show()"
   ]
  },
  {
   "cell_type": "code",
   "execution_count": 0,
   "metadata": {
    "colab": {
     "base_uri": "https://localhost:8080/",
     "height": 102
    },
    "colab_type": "code",
    "id": "c5fSsNLCxJAW",
    "outputId": "686c8d0e-fa60-4800-aff8-899a02a3a640"
   },
   "outputs": [
    {
     "name": "stdout",
     "output_type": "stream",
     "text": [
      "\n",
      "The optimal number of train value in C is 100.000000.\n",
      "--------------------------------------------------\n",
      "\n",
      "The optimal number of cv value in C is 10.000000.\n"
     ]
    }
   ],
   "source": [
    "optimal_alpha_tfidf1_train = C[train_auc_tfidf_l2.index(max(train_auc_tfidf_l2))]\n",
    "print('\\nThe optimal number of train value in C is %f.' % optimal_alpha_tfidf1_train)\n",
    "print('-'*50)\n",
    "optimal_alpha_tfidf1_cv = C[cv_auc_tfidf_l2.index(max(cv_auc_tfidf_l2))]\n",
    "print('\\nThe optimal number of cv value in C is %f.' % optimal_alpha_tfidf1_cv)"
   ]
  },
  {
   "cell_type": "code",
   "execution_count": 0,
   "metadata": {
    "colab": {
     "base_uri": "https://localhost:8080/",
     "height": 85
    },
    "colab_type": "code",
    "id": "cf-d6ToAxJAc",
    "outputId": "1e25889c-2745-43b8-deed-29b8123ebf52"
   },
   "outputs": [
    {
     "data": {
      "text/plain": [
       "LogisticRegression(C=10, class_weight=None, dual=False, fit_intercept=True,\n",
       "          intercept_scaling=1, max_iter=100, multi_class='warn',\n",
       "          n_jobs=None, penalty='l2', random_state=None, solver='warn',\n",
       "          tol=0.0001, verbose=0, warm_start=False)"
      ]
     },
     "execution_count": 41,
     "metadata": {
      "tags": []
     },
     "output_type": "execute_result"
    }
   ],
   "source": [
    "# instantiate learning model alpha = optimal_alpha\n",
    "nb_optimal_tfidf_l2 = LogisticRegression(penalty='l2',C = optimal_alpha_tfidf1_cv)\n",
    "# fitting the model\n",
    "nb_optimal_tfidf_l2.fit(X_train_tfidf, y_train)"
   ]
  },
  {
   "cell_type": "code",
   "execution_count": 0,
   "metadata": {
    "colab": {
     "base_uri": "https://localhost:8080/",
     "height": 51
    },
    "colab_type": "code",
    "id": "dlWdNSOjxJAj",
    "outputId": "cf0c5785-777c-4465-b89f-48ee3a824e81"
   },
   "outputs": [
    {
     "name": "stdout",
     "output_type": "stream",
     "text": [
      "\n",
      "The Auc socre for value= 10.000000 is 0.736375%\n"
     ]
    }
   ],
   "source": [
    "pred_tfidf_l2=nb_optimal_tfidf_l2.predict(X_test_tfidf)\n",
    "pred_tfidf_train_l2=nb_optimal_tfidf_l2.predict(X_train_tfidf)\n",
    "# evaluate accuracy on test data\n",
    "from sklearn.metrics import roc_auc_score\n",
    "auc_tfidf_l2 = roc_auc_score(y_test, pred_tfidf_l2)\n",
    "print('\\nThe Auc socre for value= %f is %f%%' % (optimal_alpha_tfidf1_cv, auc_tfidf_l2))"
   ]
  },
  {
   "cell_type": "code",
   "execution_count": 0,
   "metadata": {
    "colab": {
     "base_uri": "https://localhost:8080/",
     "height": 690
    },
    "colab_type": "code",
    "id": "Nat60CIpxJAs",
    "outputId": "47d02968-38d2-4c55-e35a-6a5bfb7cf2e5"
   },
   "outputs": [
    {
     "name": "stdout",
     "output_type": "stream",
     "text": [
      "[[ 2681  2583]\n",
      " [ 1014 26722]]\n",
      "   \n"
     ]
    },
    {
     "data": {
      "image/png": "[encoded data removed]",
      "text/plain": [
       "<Figure size 432x288 with 2 Axes>"
      ]
     },
     "metadata": {
      "tags": []
     },
     "output_type": "display_data"
    },
    {
     "name": "stdout",
     "output_type": "stream",
     "text": [
      "******************************************************************************************************************************\n",
      "[[ 3757  3326]\n",
      " [ 1290 36517]]\n",
      "   \n"
     ]
    },
    {
     "data": {
      "image/png": "[encoded data removed]",
      "text/plain": [
       "<Figure size 432x288 with 2 Axes>"
      ]
     },
     "metadata": {
      "tags": []
     },
     "output_type": "display_data"
    }
   ],
   "source": [
    "# Confusion Matrix\n",
    "#from sklearn.metrics import confusion_matrix\n",
    "cm_tfidf_l2 = confusion_matrix(y_test, pred_tfidf_l2)\n",
    "print(cm_tfidf_l2)\n",
    "print('   ')\n",
    "# plotting confusion matrix to describe the performance of classifier.\n",
    "#import seaborn as sns\n",
    "#class_label = [\"negative\", \"positive\"] already declared in above l1\n",
    "df_cm_tfidf_l2 = pd.DataFrame(cm_tfidf_l2, index = class_label, columns = class_label)\n",
    "sns.heatmap(df_cm_tfidf_l2, annot = True, fmt = \"d\")\n",
    "plt.title(\"Confusion Matrix\")\n",
    "plt.xlabel(\"Predicted Label\")\n",
    "plt.ylabel(\"True Label\")\n",
    "plt.show()\n",
    "\n",
    "print('**'*63)\n",
    "cm_tfidf1_l2 = confusion_matrix(y_train, pred_tfidf_train_l2)\n",
    "print(cm_tfidf1_l2)\n",
    "print('   ')\n",
    "# plotting confusion matrix to describe the performance of classifier.\n",
    "df_cm1_tfidf_l2 = pd.DataFrame(cm_tfidf1_l2, index = class_label, columns = class_label)\n",
    "sns.heatmap(df_cm1_tfidf_l2, annot = True, fmt = \"d\")\n",
    "plt.title(\"Confusion Matrix\")\n",
    "plt.xlabel(\"Predicted Label\")\n",
    "plt.ylabel(\"True Label\")\n",
    "plt.show()"
   ]
  },
  {
   "cell_type": "code",
   "execution_count": 0,
   "metadata": {
    "colab": {
     "base_uri": "https://localhost:8080/",
     "height": 294
    },
    "colab_type": "code",
    "id": "hLFmqFGtxJAx",
    "outputId": "02251e71-1fb2-4b26-8874-7283d901fb09"
   },
   "outputs": [
    {
     "data": {
      "image/png": "[encoded data removed]",
      "text/plain": [
       "<Figure size 432x288 with 1 Axes>"
      ]
     },
     "metadata": {
      "tags": []
     },
     "output_type": "display_data"
    }
   ],
   "source": [
    "### Computing ROC curve and ROC area for predictions on l2 validation set\n",
    "y_test_tfidf_predict_l2 =  nb_optimal_tfidf_l2.predict_proba(X_test_tfidf)[:,1]\n",
    "y_train_tfidf_predict_l2 =  nb_optimal_tfidf_l2.predict_proba(X_train_tfidf)[:,1]\n",
    "fpr_tfidf_l2,tpr_tfidf_l2,_ =  metrics.roc_curve(y_train,y_train_tfidf_predict_l2) \n",
    "fpr_tfidf1_l2,tpr_tfidf1_l2, _ = metrics.roc_curve(y_test,y_test_tfidf_predict_l2)\n",
    "\n",
    "roc_auc_tfidf_l2 = auc(fpr_tfidf_l2, tpr_tfidf_l2) \n",
    "roc_auc1_tfidf_l2 = auc(fpr_tfidf1_l2,tpr_tfidf1_l2) \n",
    "### Plot\n",
    "plt.figure()\n",
    "#lw = 3\n",
    "plt.plot(fpr_tfidf1_l2, tpr_tfidf1_l2, color='darkorange',\n",
    "         lw=lw, label='ROC curve_test (area = %0.2f)' % roc_auc1_tfidf_l2)\n",
    "plt.plot(fpr_tfidf_l2,tpr_tfidf_l2 , color='navy', lw=lw, linestyle='--',label='ROC curve_train (area = %0.2f)' % roc_auc_tfidf_l2)\n",
    "plt.xlim([0.0, 1.0])\n",
    "plt.ylim([0.0, 1.05])\n",
    "plt.xlabel('False Positive Rate')\n",
    "plt.ylabel('True Positive Rate')\n",
    "plt.title('Roc_Auc curve')\n",
    "plt.legend()\n",
    "plt.show()\n",
    "# train auc 0.92 ani chepav, kani stright line vachindhi enti?\n",
    "#this is log reg assignment sir"
   ]
  },
  {
   "cell_type": "markdown",
   "metadata": {
    "colab_type": "text",
    "id": "HJVmbj0GxJA3"
   },
   "source": [
    "### Selecting Top 20 Features for TF-IDF"
   ]
  },
  {
   "cell_type": "code",
   "execution_count": 0,
   "metadata": {
    "colab": {
     "base_uri": "https://localhost:8080/",
     "height": 34
    },
    "colab_type": "code",
    "id": "QYvoR7uCxJA4",
    "outputId": "1dfb71bf-c43b-4c70-bc76-94abe3f411fc"
   },
   "outputs": [
    {
     "data": {
      "text/plain": [
       "(500,)"
      ]
     },
     "execution_count": 45,
     "metadata": {
      "tags": []
     },
     "output_type": "execute_result"
    }
   ],
   "source": [
    "features_tfidf=np.asarray(tf_idf_vect.get_feature_names())\n",
    "type(features_tfidf)\n",
    "features_tfidf.shape"
   ]
  },
  {
   "cell_type": "code",
   "execution_count": 0,
   "metadata": {
    "colab": {
     "base_uri": "https://localhost:8080/",
     "height": 391
    },
    "colab_type": "code",
    "id": "Z4qHk06exJA-",
    "outputId": "5afc36ed-f885-4d60-e1e0-e4b0e81e1df9"
   },
   "outputs": [
    {
     "name": "stdout",
     "output_type": "stream",
     "text": [
      "          weights\n",
      "treat    1.001916\n",
      "full     1.002813\n",
      "try      1.008532\n",
      "close    1.011068\n",
      "time     1.012370\n",
      "cheaper  1.021102\n",
      "regular  1.029043\n",
      "say      1.034311\n",
      "keurig   1.043326\n",
      "stars    1.063235\n",
      "               weights\n",
      "disappointed -5.637564\n",
      "not          -5.415988\n",
      "money        -4.834120\n",
      "away         -3.958035\n",
      "thought      -3.557958\n",
      "maybe        -3.376473\n",
      "not even     -3.276807\n",
      "bad          -3.209312\n",
      "would not    -2.755708\n",
      "tasted       -2.700303\n"
     ]
    }
   ],
   "source": [
    "w=nb_optimal_tfidf.coef_\n",
    "weights=np.transpose(w)\n",
    "features_frame_tfidf=pd.DataFrame(data=weights,index=features_tfidf,columns=['weights'])\n",
    "features_frame_tfidf=features_frame_tfidf.sort_values(by=['weights'])\n",
    "features_tfidf_pos=(features_frame_tfidf.loc[features_frame_tfidf['weights'] > 1]) # Pos Features <1\n",
    "features_tfidf_neg=(features_frame_tfidf.loc[features_frame_tfidf['weights'] < 0]) # Neg Features\n",
    "print(features_tfidf_pos[0:10])\n",
    "print(features_tfidf_neg[0:10])"
   ]
  },
  {
   "cell_type": "code",
   "execution_count": 0,
   "metadata": {
    "colab": {
     "base_uri": "https://localhost:8080/",
     "height": 34
    },
    "colab_type": "code",
    "id": "fk0qFO6GxJBG",
    "outputId": "bb7b7cbc-226e-4904-cbd3-494a1746a012"
   },
   "outputs": [
    {
     "name": "stdout",
     "output_type": "stream",
     "text": [
      "************************************************************************************************************************\n"
     ]
    }
   ],
   "source": [
    "print(\"**\"*60)"
   ]
  },
  {
   "cell_type": "markdown",
   "metadata": {
    "colab_type": "text",
    "id": "appQQZ3mgj8N"
   },
   "source": [
    "# W2V"
   ]
  },
  {
   "cell_type": "code",
   "execution_count": 0,
   "metadata": {
    "colab": {},
    "colab_type": "code",
    "id": "De65xQsNgj8V"
   },
   "outputs": [],
   "source": [
    "#W2V\n",
    "\n",
    "import re\n",
    "import string\n",
    "def cleanhtml(sentence): #function to clean the word of any html-tags\n",
    "    cleanr = re.compile('<.*?>')\n",
    "    cleantext = re.sub(cleanr, ' ', sentence)\n",
    "    return cleantext\n",
    "def cleanpunc(sentence): #function to clean the word of any punctuation or special character\n",
    "    cleaned = re.sub(r'[?|!|\\'|\"|#]',r'',sentence)\n",
    "    cleaned = re.sub(r'[.|,|)|(|\\|/]',r' ',cleaned)\n",
    "    return cleaned \n",
    "# Removing the Punctuations and HTML Tags too\n",
    "\n",
    "from gensim.models import Word2Vec\n",
    "from gensim.models import KeyedVectors\n",
    "import pickle"
   ]
  },
  {
   "cell_type": "code",
   "execution_count": 34,
   "metadata": {
    "colab": {
     "base_uri": "https://localhost:8080/",
     "height": 71
    },
    "colab_type": "code",
    "id": "mCSdyCuLxJBb",
    "outputId": "e2c09801-0eee-4b39-9796-8a86760dbbb6"
   },
   "outputs": [
    {
     "name": "stdout",
     "output_type": "stream",
     "text": [
      "number of words that occured minimum 5 times  13017\n",
      "sample words  ['one', 'cats', 'developed', 'food', 'allergy', 'throwing', 'anything', 'ate', 'many', 'types', 'vet', 'recommended', 'trying', 'duck', 'venison', 'etc', 'refused', 'eat', 'found', 'good', 'thank', 'goodness', 'something', 'not', 'aggravate', 'allergies', 'served', 'miracle', 'noodle', 'rice', 'orange', 'ginger', 'chicken', 'tonight', 'dinner', 'texture', 'bit', 'odd', 'think', 'let', 'drain', 'dry', 'really', 'fill', 'meal', 'filling', 'no', 'calories', 'ever', 'beat']\n"
     ]
    }
   ],
   "source": [
    "import gensim\n",
    "i=0\n",
    "list_of_sentance=[]\n",
    "for sentance in X_train:\n",
    "    list_of_sentance.append(sentance.split())\n",
    "w2v_model=gensim.models.Word2Vec(list_of_sentance,min_count=5,size=200, workers=4)    \n",
    "type(w2v_model)\n",
    "w2v_words = list(w2v_model.wv.vocab)\n",
    "print(\"number of words that occured minimum 5 times \",len(w2v_words))\n",
    "print(\"sample words \", w2v_words[0:50])"
   ]
  },
  {
   "cell_type": "code",
   "execution_count": 0,
   "metadata": {
    "colab": {},
    "colab_type": "code",
    "id": "IOftGcqqgj89",
    "scrolled": true
   },
   "outputs": [],
   "source": [
    "# List of sentence in X_test text\n",
    "sent_of_test=[]\n",
    "for sent1 in X_test:\n",
    "    sent_of_test.append(sent1.split())   \n",
    "#List of sentences in X_cv\n",
    "sent_of_cv=[]\n",
    "for sent2 in X_cv:\n",
    "    sent_of_cv.append(sent2.split())"
   ]
  },
  {
   "cell_type": "markdown",
   "metadata": {
    "colab_type": "text",
    "id": "VDXyJpxx_o-r"
   },
   "source": [
    "# AVG W2V"
   ]
  },
  {
   "cell_type": "code",
   "execution_count": 0,
   "metadata": {
    "colab": {},
    "colab_type": "code",
    "id": "YeV_f60kxJBl"
   },
   "outputs": [],
   "source": [
    "# compute average word2vec for each review for X_train .\n",
    "train_vectors = []; \n",
    "for sent1 in list_of_sentance:\n",
    "    sent_vec = np.zeros(200) \n",
    "    cnt_words =0; \n",
    "    for word1 in sent1: # \n",
    "        if word1 in w2v_words:\n",
    "            vec = w2v_model.wv[word1]\n",
    "            sent_vec += vec\n",
    "            cnt_words += 1\n",
    "    if cnt_words != 0:\n",
    "        sent_vec /= cnt_words\n",
    "    train_vectors.append(sent_vec)\n",
    "    \n",
    "# compute average word2vec for each review for X_test .\n",
    "test_vectors = []; \n",
    "for sent11 in sent_of_test:\n",
    "    sent_vec = np.zeros(200) \n",
    "    cnt_words =0; \n",
    "    for word11 in sent11: # \n",
    "        if word11 in w2v_words:\n",
    "            vec = w2v_model.wv[word11]\n",
    "            sent_vec += vec\n",
    "            cnt_words += 1\n",
    "    if cnt_words != 0:\n",
    "        sent_vec /= cnt_words\n",
    "    test_vectors.append(sent_vec) \n",
    "    \n",
    "# compute average word2vec for each review for X_cv .\n",
    "cv_vectors = []; \n",
    "for sent111 in sent_of_cv:\n",
    "    sent_vec = np.zeros(200) \n",
    "    cnt_words =0; \n",
    "    for word111 in sent111: # \n",
    "        if word111 in w2v_words:\n",
    "            vec = w2v_model.wv[word111]\n",
    "            sent_vec += vec\n",
    "            cnt_words += 1\n",
    "    if cnt_words != 0:\n",
    "        sent_vec /= cnt_words\n",
    "    cv_vectors.append(sent_vec) "
   ]
  },
  {
   "cell_type": "code",
   "execution_count": 36,
   "metadata": {
    "colab": {
     "base_uri": "https://localhost:8080/",
     "height": 294
    },
    "colab_type": "code",
    "id": "dAiCghrfxJBs",
    "outputId": "699e173f-075e-4423-f7e0-fe71411fcb6c"
   },
   "outputs": [
    {
     "data": {
      "image/png": "[encoded data removed]",
      "text/plain": [
       "<Figure size 432x288 with 1 Axes>"
      ]
     },
     "metadata": {
      "tags": []
     },
     "output_type": "display_data"
    }
   ],
   "source": [
    "C = [0.00001,0.00001,0.0001,0.001,0.01,0.1,1,10,100,1000,10000] \n",
    "penalty=['l1','l2'] \n",
    "train_avg_l1 = []\n",
    "cv_avg_l1= []\n",
    "for k in C:\n",
    "    neigh_avg_l1 = LogisticRegression(penalty='l1',C=k)\n",
    "    model_avg_l1 = neigh_avg_l1.fit(train_vectors, y_train)\n",
    "    y_train_predavg_l1 =  model_avg_l1.predict_proba(train_vectors)[:,1]\n",
    "    y_cv_predavg_l1 =  model_avg_l1.predict_proba(cv_vectors)[:,1]\n",
    "    train_avg_l1.append(roc_auc_score(y_train,y_train_predavg_l1))\n",
    "    cv_avg_l1.append(roc_auc_score(y_cv, y_cv_predavg_l1))\n",
    "    \n",
    "#plt.plot(C,train_auc_tfidf_l1,label='Train AUC')\n",
    "#plt.plot(C,cv_auc_tfidf_l1, label='CV AUC')\n",
    "plt.plot(np.log(C), train_avg_l1, label='Train AUC')\n",
    "plt.plot(np.log(C), cv_avg_l1, label='CV AUC')\n",
    "plt.legend()\n",
    "plt.xlabel(\"K: hyperparameter\")\n",
    "plt.ylabel(\"AUC\")\n",
    "plt.title(\"ERROR PLOTS\")\n",
    "plt.show()"
   ]
  },
  {
   "cell_type": "code",
   "execution_count": 37,
   "metadata": {
    "colab": {
     "base_uri": "https://localhost:8080/",
     "height": 102
    },
    "colab_type": "code",
    "id": "XgasgFTwxJB2",
    "outputId": "73fc32b2-ff50-48e6-a06a-dd1ed1700e81"
   },
   "outputs": [
    {
     "name": "stdout",
     "output_type": "stream",
     "text": [
      "\n",
      "The optimal number of train value in C is 1000.000000.\n",
      "--------------------------------------------------\n",
      "\n",
      "The optimal number of cv value in C is 1000.000000.\n"
     ]
    }
   ],
   "source": [
    "optimal_alpha_w2v_train = C[train_avg_l1.index(max(train_avg_l1))] \n",
    "print('\\nThe optimal number of train value in C is %f.' % optimal_alpha_w2v_train)\n",
    "print('-'*50)\n",
    "optimal_alpha_w2v_cv = C[cv_avg_l1.index(max(cv_avg_l1))]\n",
    "print('\\nThe optimal number of cv value in C is %f.' % optimal_alpha_w2v_cv)"
   ]
  },
  {
   "cell_type": "code",
   "execution_count": 38,
   "metadata": {
    "colab": {
     "base_uri": "https://localhost:8080/",
     "height": 85
    },
    "colab_type": "code",
    "id": "Q_lFsI_GxJB5",
    "outputId": "e97b0a91-3ff5-48e7-bbcd-478bd11c333d"
   },
   "outputs": [
    {
     "data": {
      "text/plain": [
       "LogisticRegression(C=1000, class_weight=None, dual=False, fit_intercept=True,\n",
       "          intercept_scaling=1, max_iter=100, multi_class='warn',\n",
       "          n_jobs=None, penalty='l1', random_state=None, solver='warn',\n",
       "          tol=0.0001, verbose=0, warm_start=False)"
      ]
     },
     "execution_count": 38,
     "metadata": {
      "tags": []
     },
     "output_type": "execute_result"
    }
   ],
   "source": [
    "# instantiate learning model alpha = optimal_alpha\n",
    "nb_optimal_w2v_l1 = LogisticRegression(penalty='l1',C = optimal_alpha_w2v_cv)\n",
    "# fitting the model\n",
    "nb_optimal_w2v_l1.fit(train_vectors, y_train)"
   ]
  },
  {
   "cell_type": "code",
   "execution_count": 39,
   "metadata": {
    "colab": {
     "base_uri": "https://localhost:8080/",
     "height": 51
    },
    "colab_type": "code",
    "id": "50fySEyNgj9L",
    "outputId": "a561ee43-b450-4b40-bf3d-40bac69a1750"
   },
   "outputs": [
    {
     "name": "stdout",
     "output_type": "stream",
     "text": [
      "\n",
      "The Auc socre for value= 1000.000000 is 0.747438%\n"
     ]
    }
   ],
   "source": [
    "pred_w2v_l1=nb_optimal_w2v_l1.predict(test_vectors)\n",
    "pred_w2v_train_l1=nb_optimal_w2v_l1.predict(train_vectors)\n",
    "# evaluate accuracy on test data\n",
    "from sklearn.metrics import roc_auc_score\n",
    "auc_w2v_l1 = roc_auc_score(y_test, pred_w2v_l1)\n",
    "print('\\nThe Auc socre for value= %f is %f%%' % (optimal_alpha_w2v_cv, auc_w2v_l1))"
   ]
  },
  {
   "cell_type": "code",
   "execution_count": 40,
   "metadata": {
    "colab": {
     "base_uri": "https://localhost:8080/",
     "height": 690
    },
    "colab_type": "code",
    "id": "5whPbwYZi7pL",
    "outputId": "d4d9d131-3ff5-48dc-80d1-3be27929890f"
   },
   "outputs": [
    {
     "name": "stdout",
     "output_type": "stream",
     "text": [
      "[[ 2769  2490]\n",
      " [  878 26863]]\n",
      "   \n"
     ]
    },
    {
     "data": {
      "image/png": "[encoded data removed]",
      "text/plain": [
       "<Figure size 432x288 with 2 Axes>"
      ]
     },
     "metadata": {
      "tags": []
     },
     "output_type": "display_data"
    },
    {
     "name": "stdout",
     "output_type": "stream",
     "text": [
      "*************************************************************************************************\n",
      "[[ 3780  3235]\n",
      " [ 1190 36685]]\n",
      "   \n"
     ]
    },
    {
     "data": {
      "image/png": "[encoded data removed]",
      "text/plain": [
       "<Figure size 432x288 with 2 Axes>"
      ]
     },
     "metadata": {
      "tags": []
     },
     "output_type": "display_data"
    }
   ],
   "source": [
    "# Confusion Matrix\n",
    "from sklearn.metrics import confusion_matrix\n",
    "cm_avg = confusion_matrix(y_test, pred_w2v_l1)\n",
    "print(cm_avg)\n",
    "print('   ')\n",
    "# plotting confusion matrix to describe the performance of classifier.\n",
    "import seaborn as sns\n",
    "class_label = [\"negative\", \"positive\"]\n",
    "df_cm_w2v = pd.DataFrame(cm_avg, index = class_label, columns = class_label)\n",
    "sns.heatmap(df_cm_w2v, annot = True, fmt = \"d\")\n",
    "plt.title(\"Confusion Matrix\")\n",
    "plt.xlabel(\"Predicted Label\")\n",
    "plt.ylabel(\"True Label\")\n",
    "plt.show()\n",
    "\n",
    "print('*************************************************************************************************')\n",
    "\n",
    "cm_avg1 = confusion_matrix(y_train, pred_w2v_train_l1)\n",
    "print(cm_avg1)\n",
    "print('   ')\n",
    "# plotting confusion matrix to describe the performance of classifier.\n",
    "import seaborn as sns\n",
    "#class_label1 = [\"negative\", \"positive\"]\n",
    "df_cm1_w2v = pd.DataFrame(cm_avg1, index = class_label, columns = class_label)\n",
    "sns.heatmap(df_cm1_w2v, annot = True, fmt = \"d\")\n",
    "plt.title(\"Confusion Matrix\")\n",
    "plt.xlabel(\"Predicted Label\")\n",
    "plt.ylabel(\"True Label\")\n",
    "plt.show()"
   ]
  },
  {
   "cell_type": "code",
   "execution_count": 41,
   "metadata": {
    "colab": {
     "base_uri": "https://localhost:8080/",
     "height": 294
    },
    "colab_type": "code",
    "id": "Yj_K7iMei8Ce",
    "outputId": "6473bd70-1005-4d38-ca42-10d6d6b503cb"
   },
   "outputs": [
    {
     "data": {
      "image/png": "[encoded data removed]",
      "text/plain": [
       "<Figure size 432x288 with 1 Axes>"
      ]
     },
     "metadata": {
      "tags": []
     },
     "output_type": "display_data"
    }
   ],
   "source": [
    "### Computing ROC curve and ROC area for predictions on l1 validation set\n",
    "from sklearn import metrics\n",
    "y_test_w2v_predict =  nb_optimal_w2v_l1.predict_proba(test_vectors)[:,1]\n",
    "y_train_w2v_predict =  nb_optimal_w2v_l1.predict_proba(train_vectors)[:,1]\n",
    "fpr,tpr,_ =  metrics.roc_curve(y_train,y_train_w2v_predict) \n",
    "fpr_l1,tpr_l1, _ = metrics.roc_curve(y_test,y_test_w2v_predict)\n",
    "\n",
    "roc_auc = auc(fpr_l1, tpr_l1) \n",
    "roc_auc1 = auc(fpr,tpr) \n",
    "### Plot\n",
    "plt.figure()\n",
    "lw = 3\n",
    "plt.plot(fpr_l1, tpr_l1, color='darkorange',\n",
    "         lw=lw, label='ROC curve_test (area = %0.2f)' % roc_auc)\n",
    "plt.plot( fpr,tpr, color='navy', lw=lw, linestyle='--',label='ROC curve_train (area = %0.2f)' % roc_auc1)\n",
    "plt.xlim([0.0, 1.0])\n",
    "plt.ylim([0.0, 1.05])\n",
    "plt.xlabel('False Positive Rate')\n",
    "plt.ylabel('True Positive Rate')\n",
    "plt.title('Roc_Auc curve')\n",
    "plt.legend()\n",
    "plt.show()"
   ]
  },
  {
   "cell_type": "markdown",
   "metadata": {
    "colab_type": "text",
    "id": "4EG-zQN2bqE1"
   },
   "source": [
    "## Appplying Log reg on AVG w2v using L2"
   ]
  },
  {
   "cell_type": "code",
   "execution_count": 42,
   "metadata": {
    "colab": {
     "base_uri": "https://localhost:8080/",
     "height": 294
    },
    "colab_type": "code",
    "id": "3Q_2HrJbbmks",
    "outputId": "e5aa9247-c3f1-4ded-c72f-b79304a561c2"
   },
   "outputs": [
    {
     "data": {
      "image/png": "[encoded data removed]",
      "text/plain": [
       "<Figure size 432x288 with 1 Axes>"
      ]
     },
     "metadata": {
      "tags": []
     },
     "output_type": "display_data"
    }
   ],
   "source": [
    "#C = [0.00001,0.00001,0.0001,0.001,0.01,0.1,1,10,100,1000,10000] \n",
    "#penalty=['l1','l2'] Already declared in L1\n",
    "train_avg_l2 = []\n",
    "cv_avg_l2= []\n",
    "for a in C:\n",
    "    neigh_avg_l2 = LogisticRegression(penalty='l2',C=a)\n",
    "    model_avg_l2 = neigh_avg_l2.fit(train_vectors, y_train)\n",
    "    y_train_predavg_l2 =  model_avg_l2.predict_proba(train_vectors)[:,1]\n",
    "    y_cv_predavg_l2 =  model_avg_l2.predict_proba(cv_vectors)[:,1]\n",
    "    train_avg_l2.append(roc_auc_score(y_train,y_train_predavg_l2))\n",
    "    cv_avg_l2.append(roc_auc_score(y_cv, y_cv_predavg_l2))\n",
    "    \n",
    "#plt.plot(C,train_auc_tfidf_l1,label='Train AUC')\n",
    "#plt.plot(C,cv_auc_tfidf_l1, label='CV AUC')\n",
    "plt.plot(np.log(C), train_avg_l2, label='Train AUC')\n",
    "plt.plot(np.log(C), cv_avg_l2, label='CV AUC')\n",
    "plt.legend()\n",
    "plt.xlabel(\"K: hyperparameter\")\n",
    "plt.ylabel(\"AUC\")\n",
    "plt.title(\"ERROR PLOTS\")\n",
    "plt.show()"
   ]
  },
  {
   "cell_type": "code",
   "execution_count": 43,
   "metadata": {
    "colab": {
     "base_uri": "https://localhost:8080/",
     "height": 102
    },
    "colab_type": "code",
    "id": "lB6pYhsRhJ5f",
    "outputId": "9bb155a2-1fe4-462c-8145-68272d1fa596"
   },
   "outputs": [
    {
     "name": "stdout",
     "output_type": "stream",
     "text": [
      "\n",
      "The optimal number of train value in C is 10000.000000.\n",
      "--------------------------------------------------\n",
      "\n",
      "The optimal number of cv value in C is 1000.000000.\n"
     ]
    }
   ],
   "source": [
    "optimal_alpha_w2v1_train = C[train_avg_l2.index(max(train_avg_l2))] \n",
    "print('\\nThe optimal number of train value in C is %f.' % optimal_alpha_w2v1_train)\n",
    "print('-'*50)\n",
    "optimal_alpha_w2v1_cv = C[cv_avg_l2.index(max(cv_avg_l2))]\n",
    "print('\\nThe optimal number of cv value in C is %f.' % optimal_alpha_w2v1_cv)"
   ]
  },
  {
   "cell_type": "code",
   "execution_count": 44,
   "metadata": {
    "colab": {
     "base_uri": "https://localhost:8080/",
     "height": 85
    },
    "colab_type": "code",
    "id": "MxsTebAYhJa_",
    "outputId": "24894861-6de8-4f00-8b5c-14e49d562c72"
   },
   "outputs": [
    {
     "data": {
      "text/plain": [
       "LogisticRegression(C=1000, class_weight=None, dual=False, fit_intercept=True,\n",
       "          intercept_scaling=1, max_iter=100, multi_class='warn',\n",
       "          n_jobs=None, penalty='l2', random_state=None, solver='warn',\n",
       "          tol=0.0001, verbose=0, warm_start=False)"
      ]
     },
     "execution_count": 44,
     "metadata": {
      "tags": []
     },
     "output_type": "execute_result"
    }
   ],
   "source": [
    "# instantiate learning model alpha = optimal_alpha\n",
    "nb_optimal_w2v_l2 = LogisticRegression(penalty='l2',C = optimal_alpha_w2v1_cv)\n",
    "# fitting the model\n",
    "nb_optimal_w2v_l2.fit(train_vectors, y_train)"
   ]
  },
  {
   "cell_type": "code",
   "execution_count": 45,
   "metadata": {
    "colab": {
     "base_uri": "https://localhost:8080/",
     "height": 51
    },
    "colab_type": "code",
    "id": "8a1HF3FQhIzP",
    "outputId": "694fd4cc-07df-4aa0-83d6-77af1a67d2ee"
   },
   "outputs": [
    {
     "name": "stdout",
     "output_type": "stream",
     "text": [
      "\n",
      "The Auc socre for value= 1000.000000 is 0.748158%\n"
     ]
    }
   ],
   "source": [
    "pred_w2v_l2=nb_optimal_w2v_l2.predict(test_vectors)\n",
    "pred_w2v_train_l2=nb_optimal_w2v_l2.predict(train_vectors)\n",
    "# evaluate accuracy on test data\n",
    "from sklearn.metrics import roc_auc_score\n",
    "auc_w2v_l2 = roc_auc_score(y_test, pred_w2v_l2)\n",
    "print('\\nThe Auc socre for value= %f is %f%%' % (optimal_alpha_w2v1_cv, auc_w2v_l2))"
   ]
  },
  {
   "cell_type": "code",
   "execution_count": 46,
   "metadata": {
    "colab": {
     "base_uri": "https://localhost:8080/",
     "height": 690
    },
    "colab_type": "code",
    "id": "9vfwlRSjkbYA",
    "outputId": "9a754a2a-c949-43d9-ae3d-3f39cf2ed6c9"
   },
   "outputs": [
    {
     "name": "stdout",
     "output_type": "stream",
     "text": [
      "[[ 2776  2483]\n",
      " [  875 26866]]\n",
      "   \n"
     ]
    },
    {
     "data": {
      "image/png": "[encoded data removed]",
      "text/plain": [
       "<Figure size 432x288 with 2 Axes>"
      ]
     },
     "metadata": {
      "tags": []
     },
     "output_type": "display_data"
    },
    {
     "name": "stdout",
     "output_type": "stream",
     "text": [
      "*************************************************************************************************\n",
      "[[ 3782  3233]\n",
      " [ 1201 36674]]\n",
      "   \n"
     ]
    },
    {
     "data": {
      "image/png": "[encoded data removed]",
      "text/plain": [
       "<Figure size 432x288 with 2 Axes>"
      ]
     },
     "metadata": {
      "tags": []
     },
     "output_type": "display_data"
    }
   ],
   "source": [
    "# Confusion Matrix\n",
    "from sklearn.metrics import confusion_matrix\n",
    "cm_avg11 = confusion_matrix(y_test, pred_w2v_l2)\n",
    "print(cm_avg11)\n",
    "print('   ')\n",
    "# plotting confusion matrix to describe the performance of classifier.\n",
    "import seaborn as sns\n",
    "#class_label = [\"negative\", \"positive\"]\n",
    "df_cm_w2v11 = pd.DataFrame(cm_avg11, index = class_label, columns = class_label)\n",
    "sns.heatmap(df_cm_w2v11, annot = True, fmt = \"d\")\n",
    "plt.title(\"Confusion Matrix\")\n",
    "plt.xlabel(\"Predicted Label\")\n",
    "plt.ylabel(\"True Label\")\n",
    "plt.show()\n",
    "\n",
    "print('*************************************************************************************************')\n",
    "\n",
    "cm_avg2 = confusion_matrix(y_train, pred_w2v_train_l2)\n",
    "print(cm_avg2)\n",
    "print('   ')\n",
    "# plotting confusion matrix to describe the performance of classifier.\n",
    "import seaborn as sns\n",
    "#class_label1 = [\"negative\", \"positive\"]\n",
    "df_cm1_w2v2 = pd.DataFrame(cm_avg2, index = class_label, columns = class_label)\n",
    "sns.heatmap(df_cm1_w2v2, annot = True, fmt = \"d\")\n",
    "plt.title(\"Confusion Matrix\")\n",
    "plt.xlabel(\"Predicted Label\")\n",
    "plt.ylabel(\"True Label\")\n",
    "plt.show()"
   ]
  },
  {
   "cell_type": "code",
   "execution_count": 47,
   "metadata": {
    "colab": {
     "base_uri": "https://localhost:8080/",
     "height": 294
    },
    "colab_type": "code",
    "id": "7OI-Ij5vlIIT",
    "outputId": "d0554821-45e0-4ea5-9cfe-7b10788f410f"
   },
   "outputs": [
    {
     "data": {
      "image/png": "[encoded data removed]",
      "text/plain": [
       "<Figure size 432x288 with 1 Axes>"
      ]
     },
     "metadata": {
      "tags": []
     },
     "output_type": "display_data"
    }
   ],
   "source": [
    "### Computing ROC curve and ROC area for predictions on l1 validation set\n",
    "from sklearn import metrics\n",
    "y_test_w2v_predict1 =  nb_optimal_w2v_l2.predict_proba(test_vectors)[:,1]\n",
    "y_train_w2v_predict1 =  nb_optimal_w2v_l2.predict_proba(train_vectors)[:,1]\n",
    "fpr1,tpr1,_ =  metrics.roc_curve(y_train,y_train_w2v_predict1) \n",
    "fpr_l2,tpr_l2, _ = metrics.roc_curve(y_test,y_test_w2v_predict1)\n",
    "\n",
    "roc_auc11 = auc(fpr_l2, tpr_l2) \n",
    "roc_aucl2 = auc(fpr1,tpr1) \n",
    "### Plot\n",
    "plt.figure()\n",
    "#lw = 3\n",
    "plt.plot(fpr_l2, tpr_l2, color='darkorange',\n",
    "         lw=lw, label='ROC curve_test (area = %0.2f)' % roc_auc11)\n",
    "plt.plot( fpr1,tpr1,color='navy', lw=lw, linestyle='--',label='ROC curve_train (area = %0.2f)' % roc_aucl2)\n",
    "plt.xlim([0.0, 1.0])\n",
    "plt.ylim([0.0, 1.05])\n",
    "plt.xlabel('False Positive Rate')\n",
    "plt.ylabel('True Positive Rate')\n",
    "plt.title('Roc_Auc curve')\n",
    "plt.legend()\n",
    "plt.show()"
   ]
  },
  {
   "cell_type": "markdown",
   "metadata": {
    "colab_type": "text",
    "id": "9DUkFQT0hDr8"
   },
   "source": [
    "## TF_IDF W2v"
   ]
  },
  {
   "cell_type": "code",
   "execution_count": 36,
   "metadata": {
    "colab": {
     "base_uri": "https://localhost:8080/",
     "height": 34
    },
    "colab_type": "code",
    "id": "Y1SKozOWcfmO",
    "outputId": "4124245e-85d9-4556-f5ce-93bc48a62759"
   },
   "outputs": [
    {
     "name": "stderr",
     "output_type": "stream",
     "text": [
      "100%|██████████| 44890/44890 [15:14<00:00, 48.11it/s]\n"
     ]
    }
   ],
   "source": [
    "# TF-IDF weighted Word2Vec\n",
    "tfidf_vectorizer = TfidfVectorizer()\n",
    "\n",
    "# final_tf_idf1 is the sparse matrix with row= sentence, col=word and cell_val = tfidf\n",
    "final_tfidf_train = tfidf_vectorizer.fit_transform(X_train)\n",
    "final_tfidf_test = tfidf_vectorizer.transform(X_test)\n",
    "final_tfidf_cv = tfidf_vectorizer.transform(X_cv)\n",
    "dictionary = dict(zip(tfidf_vectorizer.get_feature_names(), list(tfidf_vectorizer.idf_)))\n",
    "\n",
    "# tfidf words/col-names\n",
    "tfidf_features = tfidf_vectorizer.get_feature_names()\n",
    "\n",
    "# compute TFIDF Weighted Word2Vec for each review for X_train .\n",
    "tfidf_train_vectors = []; \n",
    "row=0;\n",
    "for senttrain in tqdm(list_of_sentance): \n",
    "    sent_vec_train = np.zeros(200) \n",
    "    weight_sum_train =0; \n",
    "    for word_train in senttrain: \n",
    "        if word_train in w2v_words and word_train in tfidf_features:\n",
    "            vec_1 = w2v_model.wv[word_train]\n",
    "            # obtain the tf_idfidf of a word in a sentence/review\n",
    "            #tfidf_train = final_tfidf_train[row, tfidf_features.index(word_train)]\n",
    "            tfidf_train = dictionary[word_train]*(senttrain.count(word_train)/len(senttrain))\n",
    "            sent_vec_train += (vec_1 * tfidf_train)\n",
    "            weight_sum_train += tfidf_train\n",
    "    if weight_sum_train != 0:\n",
    "        sent_vec_train /= weight_sum_train\n",
    "    tfidf_train_vectors.append(sent_vec_train)\n",
    "    row += 1"
   ]
  },
  {
   "cell_type": "code",
   "execution_count": 37,
   "metadata": {
    "colab": {
     "base_uri": "https://localhost:8080/",
     "height": 34
    },
    "colab_type": "code",
    "id": "D_Q0iBMxcfxK",
    "outputId": "bc27a315-0149-4dc3-d0f6-187f7b77e783"
   },
   "outputs": [
    {
     "name": "stderr",
     "output_type": "stream",
     "text": [
      "100%|██████████| 22110/22110 [07:32<00:00, 48.90it/s]\n"
     ]
    }
   ],
   "source": [
    "# compute TFIDF Weighted Word2Vec for each review for X_cv .\n",
    "tfidf_cv_vectors = []; \n",
    "#row=0;\n",
    "for sentcv in tqdm(sent_of_cv): \n",
    "    sent_vec_cv = np.zeros(200) \n",
    "    weight_sum_cv =0; \n",
    "    for word_cv in sentcv: \n",
    "        if word_cv in w2v_words and word_cv in tfidf_features:\n",
    "            vec_2 = w2v_model.wv[word_cv]\n",
    "            # obtain the tf_idfidf of a word in a sentence/review\n",
    "            #tfidf_cv = final_tfidf_cv[row, tfidf_features.index(word)]\n",
    "            tfidf_cv = dictionary[word_cv]*(sentcv.count(word_cv)/len(sentcv))\n",
    "            sent_vec_cv += (vec_2 * tfidf_cv)\n",
    "            weight_sum_cv += tfidf_cv\n",
    "    if weight_sum_cv != 0:\n",
    "        sent_vec_cv /= weight_sum_cv\n",
    "    tfidf_cv_vectors.append(sent_vec_cv)\n",
    "    row += 1"
   ]
  },
  {
   "cell_type": "code",
   "execution_count": 38,
   "metadata": {
    "colab": {
     "base_uri": "https://localhost:8080/",
     "height": 34
    },
    "colab_type": "code",
    "id": "MAAU6FgYcf7i",
    "outputId": "76fb9407-c878-4808-ce18-cb5151d0aac8"
   },
   "outputs": [
    {
     "name": "stderr",
     "output_type": "stream",
     "text": [
      "100%|██████████| 33000/33000 [11:20<00:00, 48.46it/s]\n"
     ]
    }
   ],
   "source": [
    "# compute TFIDF Weighted Word2Vec for each review for X_test .\n",
    "tfidf_test_vectors = []; \n",
    "#row=0;\n",
    "for senttest in tqdm(sent_of_test): \n",
    "    sent_vec_test = np.zeros(200) \n",
    "    weight_sum_test =0; \n",
    "    for word_test in senttest: \n",
    "        if word_test in w2v_words and word_test in tfidf_features:\n",
    "            vec_3 = w2v_model.wv[word_test]\n",
    "            # obtain the tf_idfidf of a word in a sentence/review\n",
    "            #tfidf_test = final_tfidf_test[row, tfidf_features.index(word)]\n",
    "            tfidf_test = dictionary[word_test]*(senttest.count(word_test)/len(senttest))\n",
    "            sent_vec_test += (vec_3 * tfidf_test)\n",
    "            weight_sum_test += tfidf_test\n",
    "    if weight_sum_test != 0:\n",
    "        sent_vec_test /= weight_sum_test\n",
    "    tfidf_test_vectors.append(sent_vec_test)\n",
    "    row += 1"
   ]
  },
  {
   "cell_type": "markdown",
   "metadata": {
    "colab_type": "text",
    "id": "rSbdTsqMZiWM"
   },
   "source": [
    "## Log reg using L1"
   ]
  },
  {
   "cell_type": "code",
   "execution_count": 40,
   "metadata": {
    "colab": {
     "base_uri": "https://localhost:8080/",
     "height": 294
    },
    "colab_type": "code",
    "id": "96OA-W5jMtLJ",
    "outputId": "07f2e2ad-f07f-4c6e-c1ed-046515176a6b"
   },
   "outputs": [
    {
     "data": {
      "image/png": "[encoded data removed]",
      "text/plain": [
       "<Figure size 432x288 with 1 Axes>"
      ]
     },
     "metadata": {
      "tags": []
     },
     "output_type": "display_data"
    }
   ],
   "source": [
    "C = [0.00001,0.00001,0.0001,0.001,0.01,0.1,1,10,100,1000,10000] \n",
    "penalty=['l1','l2'] \n",
    "train_w2v_l1 = []\n",
    "cv_w2v_l1= []\n",
    "for b in C:\n",
    "    neigh_w2v_l1 = LogisticRegression(penalty='l1',C=b)\n",
    "    model_w2v_l1 = neigh_w2v_l1.fit(tfidf_train_vectors, y_train)\n",
    "    y_train_predw2v_l1 =  model_w2v_l1.predict_proba(tfidf_train_vectors)[:,1]\n",
    "    y_cv_predw2v_l1 =  model_w2v_l1.predict_proba(tfidf_cv_vectors)[:,1]\n",
    "    train_w2v_l1.append(roc_auc_score(y_train,y_train_predw2v_l1))\n",
    "    cv_w2v_l1.append(roc_auc_score(y_cv, y_cv_predw2v_l1))\n",
    "    \n",
    "#plt.plot(C,train_auc_tfidf_l1,label='Train AUC')\n",
    "#plt.plot(C,cv_auc_tfidf_l1, label='CV AUC')\n",
    "plt.plot(np.log(C), train_w2v_l1, label='Train AUC')\n",
    "plt.plot(np.log(C), cv_w2v_l1, label='CV AUC')\n",
    "plt.legend()\n",
    "plt.xlabel(\"K: hyperparameter\")\n",
    "plt.ylabel(\"AUC\")\n",
    "plt.title(\"ERROR PLOTS\")\n",
    "plt.show()"
   ]
  },
  {
   "cell_type": "code",
   "execution_count": 41,
   "metadata": {
    "colab": {
     "base_uri": "https://localhost:8080/",
     "height": 102
    },
    "colab_type": "code",
    "id": "8toR9hGAaxMF",
    "outputId": "1809fe8f-b51f-4b9c-9b67-752bab9e8d1c"
   },
   "outputs": [
    {
     "name": "stdout",
     "output_type": "stream",
     "text": [
      "\n",
      "The optimal number of train value in C is 10000.000000.\n",
      "--------------------------------------------------\n",
      "\n",
      "The optimal number of cv value in C is 10000.000000.\n"
     ]
    }
   ],
   "source": [
    "optimal_alpha_tfw2v_train = C[train_w2v_l1.index(max(train_w2v_l1))] \n",
    "print('\\nThe optimal number of train value in C is %f.' % optimal_alpha_tfw2v_train)\n",
    "print('-'*50)\n",
    "optimal_alpha_tfw2v_cv = C[cv_w2v_l1.index(max(cv_w2v_l1))]\n",
    "print('\\nThe optimal number of cv value in C is %f.' % optimal_alpha_tfw2v_cv)"
   ]
  },
  {
   "cell_type": "code",
   "execution_count": 42,
   "metadata": {
    "colab": {
     "base_uri": "https://localhost:8080/",
     "height": 85
    },
    "colab_type": "code",
    "id": "H5Loif9QbrXT",
    "outputId": "d55a720e-fc4c-4266-a8c1-f39fa1de19eb"
   },
   "outputs": [
    {
     "data": {
      "text/plain": [
       "LogisticRegression(C=10000, class_weight=None, dual=False, fit_intercept=True,\n",
       "          intercept_scaling=1, max_iter=100, multi_class='warn',\n",
       "          n_jobs=None, penalty='l1', random_state=None, solver='warn',\n",
       "          tol=0.0001, verbose=0, warm_start=False)"
      ]
     },
     "execution_count": 42,
     "metadata": {
      "tags": []
     },
     "output_type": "execute_result"
    }
   ],
   "source": [
    "# instantiate learning model alpha = optimal_alpha\n",
    "optimal_w2v_l1 = LogisticRegression(penalty='l1',C = optimal_alpha_tfw2v_cv)\n",
    "# fitting the model\n",
    "optimal_w2v_l1.fit(tfidf_train_vectors, y_train)"
   ]
  },
  {
   "cell_type": "code",
   "execution_count": 43,
   "metadata": {
    "colab": {
     "base_uri": "https://localhost:8080/",
     "height": 51
    },
    "colab_type": "code",
    "id": "CzjU-ULrbzBY",
    "outputId": "a641b8f0-4d1c-4aa6-c6c1-512520400b5c"
   },
   "outputs": [
    {
     "name": "stdout",
     "output_type": "stream",
     "text": [
      "\n",
      "The Auc socre for value= 10000.000000 is 0.709738%\n"
     ]
    }
   ],
   "source": [
    "pred_tfw2v_l1=optimal_w2v_l1.predict(tfidf_test_vectors)#test\n",
    "pred_tfw2v_train_l1=optimal_w2v_l1.predict(tfidf_train_vectors)\n",
    "# evaluate accuracy on test data\n",
    "from sklearn.metrics import roc_auc_score\n",
    "auc_of_l1 = roc_auc_score(y_test, pred_tfw2v_l1)\n",
    "print('\\nThe Auc socre for value= %f is %f%%' % (optimal_alpha_tfw2v_cv, auc_of_l1))"
   ]
  },
  {
   "cell_type": "code",
   "execution_count": 44,
   "metadata": {
    "colab": {
     "base_uri": "https://localhost:8080/",
     "height": 690
    },
    "colab_type": "code",
    "id": "x2lgF4_kcQjx",
    "outputId": "ab7fc0aa-ec23-4c0d-95fd-4092ae20f904"
   },
   "outputs": [
    {
     "name": "stdout",
     "output_type": "stream",
     "text": [
      "[[ 2372  2881]\n",
      " [  890 26857]]\n",
      "   \n"
     ]
    },
    {
     "data": {
      "image/png": "[encoded data removed]",
      "text/plain": [
       "<Figure size 432x288 with 2 Axes>"
      ]
     },
     "metadata": {
      "tags": []
     },
     "output_type": "display_data"
    },
    {
     "name": "stdout",
     "output_type": "stream",
     "text": [
      "*************************************************************************************************\n",
      "[[ 3299  3783]\n",
      " [ 1174 36634]]\n",
      "   \n"
     ]
    },
    {
     "data": {
      "image/png": "[encoded data removed]",
      "text/plain": [
       "<Figure size 432x288 with 2 Axes>"
      ]
     },
     "metadata": {
      "tags": []
     },
     "output_type": "display_data"
    }
   ],
   "source": [
    "# Confusion Matrix\n",
    "from sklearn.metrics import confusion_matrix\n",
    "cm_w2v = confusion_matrix(y_test, pred_tfw2v_l1)\n",
    "print(cm_w2v)\n",
    "print('   ')\n",
    "# plotting confusion matrix to describe the performance of classifier.\n",
    "import seaborn as sns\n",
    "class_label = [\"negative\", \"positive\"]\n",
    "df_conf_w2v = pd.DataFrame(cm_w2v, index = class_label, columns = class_label)\n",
    "sns.heatmap(df_conf_w2v, annot = True, fmt = \"d\")\n",
    "plt.title(\"Confusion Matrix\")\n",
    "plt.xlabel(\"Predicted Label\")\n",
    "plt.ylabel(\"True Label\")\n",
    "plt.show()\n",
    "\n",
    "print('*************************************************************************************************')\n",
    "\n",
    "cm_w2v1 = confusion_matrix(y_train, pred_tfw2v_train_l1)\n",
    "print(cm_w2v1)\n",
    "print('   ')\n",
    "# plotting confusion matrix to describe the performance of classifier.\n",
    "import seaborn as sns\n",
    "#class_label1 = [\"negative\", \"positive\"]\n",
    "df_conf1_w2v = pd.DataFrame(cm_w2v1, index = class_label, columns = class_label)\n",
    "sns.heatmap(df_conf1_w2v, annot = True, fmt = \"d\")\n",
    "plt.title(\"Confusion Matrix\")\n",
    "plt.xlabel(\"Predicted Label\")\n",
    "plt.ylabel(\"True Label\")\n",
    "plt.show()"
   ]
  },
  {
   "cell_type": "code",
   "execution_count": 45,
   "metadata": {
    "colab": {
     "base_uri": "https://localhost:8080/",
     "height": 294
    },
    "colab_type": "code",
    "id": "G06B_-DGddOC",
    "outputId": "5b7c9add-7259-4d49-c340-78cdf1cc0f4b"
   },
   "outputs": [
    {
     "data": {
      "image/png": "[encoded data removed]",
      "text/plain": [
       "<Figure size 432x288 with 1 Axes>"
      ]
     },
     "metadata": {
      "tags": []
     },
     "output_type": "display_data"
    }
   ],
   "source": [
    "### Computing ROC curve and ROC area for predictions on l1 validation set\n",
    "from sklearn import metrics\n",
    "y_test_tfw2v_predict = optimal_w2v_l1.predict_proba(tfidf_test_vectors)[:,1]\n",
    "y_train_tfw2v_predict = optimal_w2v_l1.predict_proba(tfidf_train_vectors)[:,1]\n",
    "fpr,tpr,_ =  metrics.roc_curve(y_train,y_train_tfw2v_predict) \n",
    "fpr_l1,tpr_l1, _ = metrics.roc_curve(y_test,y_test_tfw2v_predict)\n",
    "\n",
    "roc_auc = auc(fpr_l1, tpr_l1) \n",
    "roc_auc1 = auc(fpr,tpr) \n",
    "### Plot\n",
    "plt.figure()\n",
    "lw = 3\n",
    "plt.plot(fpr_l1, tpr_l1, color='darkorange',\n",
    "         lw=lw, label='ROC curve_test (area = %0.2f)' % roc_auc)\n",
    "plt.plot( fpr,tpr, color='navy', lw=lw, linestyle='--',label='ROC curve_train (area = %0.2f)' % roc_auc1)\n",
    "plt.xlim([0.0, 1.0])\n",
    "plt.ylim([0.0, 1.05])\n",
    "plt.xlabel('False Positive Rate')\n",
    "plt.ylabel('True Positive Rate')\n",
    "plt.title('Roc_Auc curve')\n",
    "plt.legend()\n",
    "plt.show()"
   ]
  },
  {
   "cell_type": "markdown",
   "metadata": {
    "colab_type": "text",
    "id": "uTSf4tjWg3zS"
   },
   "source": [
    "## Applying Log reg using L2"
   ]
  },
  {
   "cell_type": "code",
   "execution_count": 46,
   "metadata": {
    "colab": {
     "base_uri": "https://localhost:8080/",
     "height": 294
    },
    "colab_type": "code",
    "id": "a6UG9tKAhJj8",
    "outputId": "ec39b007-24e2-4c36-c98b-40e585d7e822"
   },
   "outputs": [
    {
     "data": {
      "image/png": "[encoded data removed]",
      "text/plain": [
       "<Figure size 432x288 with 1 Axes>"
      ]
     },
     "metadata": {
      "tags": []
     },
     "output_type": "display_data"
    }
   ],
   "source": [
    "#C = [0.00001,0.00001,0.0001,0.001,0.01,0.1,1,10,100,1000,10000] \n",
    "#penalty=['l1','l2'] Already declared in L1\n",
    "train_w2v_l2 = []\n",
    "cv_w2v_l2= []\n",
    "for t in C:\n",
    "    neigh_w2v_l2 = LogisticRegression(penalty='l2',C=t)\n",
    "    model_w2v_l2 = neigh_w2v_l2.fit(tfidf_train_vectors, y_train)\n",
    "    y_train_predw2v_l2 =  model_w2v_l2.predict_proba(tfidf_train_vectors)[:,1]\n",
    "    y_cv_predw2v_l2 =  model_w2v_l2.predict_proba(tfidf_cv_vectors)[:,1]\n",
    "    train_w2v_l2.append(roc_auc_score(y_train,y_train_predw2v_l2))\n",
    "    cv_w2v_l2.append(roc_auc_score(y_cv, y_cv_predw2v_l2))\n",
    "    \n",
    "#plt.plot(C,train_auc_tfidf_l1,label='Train AUC')\n",
    "#plt.plot(C,cv_auc_tfidf_l1, label='CV AUC')\n",
    "plt.plot(np.log(C), train_w2v_l2, label='Train AUC')\n",
    "plt.plot(np.log(C), cv_w2v_l2, label='CV AUC')\n",
    "plt.legend()\n",
    "plt.xlabel(\"K: hyperparameter\")\n",
    "plt.ylabel(\"AUC\")\n",
    "plt.title(\"ERROR PLOTS\")\n",
    "plt.show()"
   ]
  },
  {
   "cell_type": "code",
   "execution_count": 47,
   "metadata": {
    "colab": {
     "base_uri": "https://localhost:8080/",
     "height": 102
    },
    "colab_type": "code",
    "id": "-QuVnt-BjgGJ",
    "outputId": "3058d83e-658e-40fa-98a6-1073cd3c734b"
   },
   "outputs": [
    {
     "name": "stdout",
     "output_type": "stream",
     "text": [
      "\n",
      "The optimal number of train value in C is 10000.000000.\n",
      "--------------------------------------------------\n",
      "\n",
      "The optimal number of cv value in C is 10000.000000.\n"
     ]
    }
   ],
   "source": [
    "optimal_alpha_train = C[train_w2v_l2.index(max(train_w2v_l2))] \n",
    "print('\\nThe optimal number of train value in C is %f.' % optimal_alpha_train)\n",
    "print('-'*50)\n",
    "optimal_alpha_cv = C[cv_w2v_l2.index(max(cv_w2v_l2))]\n",
    "print('\\nThe optimal number of cv value in C is %f.' % optimal_alpha_cv)"
   ]
  },
  {
   "cell_type": "code",
   "execution_count": 48,
   "metadata": {
    "colab": {
     "base_uri": "https://localhost:8080/",
     "height": 85
    },
    "colab_type": "code",
    "id": "GuayXmArj-YW",
    "outputId": "1b8a06a3-482f-4882-e56b-8c1cf839ea8e"
   },
   "outputs": [
    {
     "data": {
      "text/plain": [
       "LogisticRegression(C=10000, class_weight=None, dual=False, fit_intercept=True,\n",
       "          intercept_scaling=1, max_iter=100, multi_class='warn',\n",
       "          n_jobs=None, penalty='l2', random_state=None, solver='warn',\n",
       "          tol=0.0001, verbose=0, warm_start=False)"
      ]
     },
     "execution_count": 48,
     "metadata": {
      "tags": []
     },
     "output_type": "execute_result"
    }
   ],
   "source": [
    "# instantiate learning model alpha = optimal_alpha\n",
    "optimal_w2v_l2 = LogisticRegression(penalty='l2',C = optimal_alpha_cv)\n",
    "# fitting the model\n",
    "optimal_w2v_l2.fit(tfidf_train_vectors, y_train)"
   ]
  },
  {
   "cell_type": "code",
   "execution_count": 49,
   "metadata": {
    "colab": {
     "base_uri": "https://localhost:8080/",
     "height": 51
    },
    "colab_type": "code",
    "id": "VAPAvbV6kYco",
    "outputId": "53be320c-73bb-4c8e-d72d-1a45c331f090"
   },
   "outputs": [
    {
     "name": "stdout",
     "output_type": "stream",
     "text": [
      "\n",
      "The Auc socre for value= 10000.000000 is 0.710664%\n"
     ]
    }
   ],
   "source": [
    "pred_tfw2v_l2=optimal_w2v_l2.predict(tfidf_test_vectors) #test\n",
    "pred_tfw2v_train_l2=optimal_w2v_l2.predict(tfidf_train_vectors)\n",
    "# evaluate accuracy on test data\n",
    "#from sklearn.metrics import roc_auc_score\n",
    "auc_tfw2v_l2 = roc_auc_score(y_test, pred_tfw2v_l2)\n",
    "print('\\nThe Auc socre for value= %f is %f%%' % (optimal_alpha_cv, auc_tfw2v_l2))"
   ]
  },
  {
   "cell_type": "code",
   "execution_count": 50,
   "metadata": {
    "colab": {
     "base_uri": "https://localhost:8080/",
     "height": 690
    },
    "colab_type": "code",
    "id": "QWE8q4uGj-nz",
    "outputId": "888576ef-fc44-45be-c344-157a2f72dd02"
   },
   "outputs": [
    {
     "name": "stdout",
     "output_type": "stream",
     "text": [
      "[[ 2384  2869]\n",
      " [  902 26845]]\n",
      "   \n"
     ]
    },
    {
     "data": {
      "image/png": "[encoded data removed]",
      "text/plain": [
       "<Figure size 432x288 with 2 Axes>"
      ]
     },
     "metadata": {
      "tags": []
     },
     "output_type": "display_data"
    },
    {
     "name": "stdout",
     "output_type": "stream",
     "text": [
      "*************************************************************************************************\n",
      "[[ 3333  3749]\n",
      " [ 1181 36627]]\n",
      "   \n"
     ]
    },
    {
     "data": {
      "image/png": "[encoded data removed]",
      "text/plain": [
       "<Figure size 432x288 with 2 Axes>"
      ]
     },
     "metadata": {
      "tags": []
     },
     "output_type": "display_data"
    }
   ],
   "source": [
    "# Confusion Matrix\n",
    "#from sklearn.metrics import confusion_matrix\n",
    "cm_l2 = confusion_matrix(y_test, pred_tfw2v_l2)\n",
    "print(cm_l2)\n",
    "print('   ')\n",
    "# plotting confusion matrix to describe the performance of classifier.\n",
    "#import seaborn as sns\n",
    "#class_label = [\"negative\", \"positive\"]\n",
    "df_cm_w2vl2 = pd.DataFrame(cm_l2, index = class_label, columns = class_label)\n",
    "sns.heatmap(df_cm_w2vl2, annot = True, fmt = \"d\")\n",
    "plt.title(\"Confusion Matrix\")\n",
    "plt.xlabel(\"Predicted Label\")\n",
    "plt.ylabel(\"True Label\")\n",
    "plt.show()\n",
    "\n",
    "print('*************************************************************************************************')\n",
    "\n",
    "cm_w2vl2 = confusion_matrix(y_train, pred_tfw2v_train_l2)\n",
    "print(cm_w2vl2)\n",
    "print('   ')\n",
    "# plotting confusion matrix to describe the performance of classifier.\n",
    "#import seaborn as sns\n",
    "#class_label = [\"negative\", \"positive\"]\n",
    "df_cm_w2vl2 = pd.DataFrame(cm_w2vl2, index = class_label, columns = class_label)\n",
    "sns.heatmap(df_cm_w2vl2, annot = True, fmt = \"d\")\n",
    "plt.title(\"Confusion Matrix\")\n",
    "plt.xlabel(\"Predicted Label\")\n",
    "plt.ylabel(\"True Label\")\n",
    "plt.show()"
   ]
  },
  {
   "cell_type": "code",
   "execution_count": 51,
   "metadata": {
    "colab": {
     "base_uri": "https://localhost:8080/",
     "height": 294
    },
    "colab_type": "code",
    "id": "NNqcD1fdlUoY",
    "outputId": "d3ad2908-41e8-4f43-e33f-f0b65da86ba9"
   },
   "outputs": [
    {
     "data": {
      "image/png": "[encoded data removed]",
      "text/plain": [
       "<Figure size 432x288 with 1 Axes>"
      ]
     },
     "metadata": {
      "tags": []
     },
     "output_type": "display_data"
    }
   ],
   "source": [
    "### Computing ROC curve and ROC area for predictions on l1 validation set\n",
    "#from sklearn import metrics\n",
    "y_test_w2v_predictl2 =  optimal_w2v_l2.predict_proba(tfidf_test_vectors)[:,1]\n",
    "y_train_w2v_predictl2 =  optimal_w2v_l2.predict_proba(tfidf_train_vectors)[:,1]\n",
    "train_fpr,train_tpr,_ =  metrics.roc_curve(y_train,y_train_w2v_predictl2) \n",
    "fpr_l2,tpr_l2, _ = metrics.roc_curve(y_test,y_test_w2v_predictl2)\n",
    "\n",
    "roc_auc_test_l2 = auc(fpr_l2, tpr_l2) \n",
    "roc_auc_train_l2 = auc(train_fpr,train_tpr) \n",
    "### Plot\n",
    "plt.figure()\n",
    "#lw = 3\n",
    "plt.plot(fpr_l2, tpr_l2, color='darkorange',\n",
    "         lw=lw, label='ROC curve_test (area = %0.2f)' % roc_auc_test_l2)\n",
    "plt.plot( train_fpr,train_tpr,color='navy', lw=lw, linestyle='--',label='ROC curve_train (area = %0.2f)' % roc_auc_train_l2)\n",
    "plt.xlim([0.0, 1.0])\n",
    "plt.ylim([0.0, 1.05])\n",
    "plt.xlabel('False Positive Rate')\n",
    "plt.ylabel('True Positive Rate')\n",
    "plt.title('Roc_Auc curve')\n",
    "plt.legend()\n",
    "plt.show()"
   ]
  },
  {
   "cell_type": "markdown",
   "metadata": {},
   "source": [
    "## Conclusion section :"
   ]
  },
  {
   "cell_type": "raw",
   "metadata": {
    "colab_type": "text",
    "id": "9NYKDg3Sgj9h"
   },
   "source": [
    "----------------------------------------------\n",
    "|Featurization | Regularization | AUC score  | \n",
    "|--------------------------------------------|\n",
    "|              |    L1          |  0.811633  | \n",
    "|Bow           |----------------|------------|\n",
    "|              |    L2          |  0.790487  |\n",
    "|--------------------------------------------|\n",
    "|              |    L1          |   0.731133 |\n",
    "|TFIDF         |----------------|------------|\n",
    "|              |    L2          |   0.736375 |\n",
    "|--------------------------------------------|\n",
    "|              |    L1          | 0.747438   |\n",
    "|AVG-W2V       |----------------|------------|\n",
    "|              |    L2          |  0.748158  |\n",
    "|--------------------------------------------|\n",
    "|              |    L1          | 0.709738   | \n",
    "|TFIDF-W2V     |----------------|------------|\n",
    "|              |    L2          | 0.710664   |\n",
    "|--------------------------------------------|"
   ]
  }
 ],
 "metadata": {
  "accelerator": "GPU",
  "colab": {
   "collapsed_sections": [],
   "name": "LR_Assignment.ipynb",
   "provenance": [],
   "version": "0.3.2"
  },
  "kernelspec": {
   "display_name": "Python 3",
   "language": "python",
   "name": "python3"
  },
  "language_info": {
   "codemirror_mode": {
    "name": "ipython",
    "version": 3
   },
   "file_extension": ".py",
   "mimetype": "text/x-python",
   "name": "python",
   "nbconvert_exporter": "python",
   "pygments_lexer": "ipython3",
   "version": "3.6.5"
  }
 },
 "nbformat": 4,
 "nbformat_minor": 1
}
